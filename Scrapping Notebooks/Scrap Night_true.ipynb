{
 "cells": [
  {
   "cell_type": "markdown",
   "id": "d7811972",
   "metadata": {},
   "source": [
    "### Importing libraries and setting up the scrapping tools"
   ]
  },
  {
   "cell_type": "code",
   "execution_count": 1,
   "id": "d69ef797",
   "metadata": {},
   "outputs": [],
   "source": [
    "import requests as req\n",
    "from bs4 import BeautifulSoup as bs\n",
    "import pandas as pd\n",
    "import json\n",
    "import time \n",
    "from selenium import webdriver\n",
    "from selenium.webdriver.chrome.options import Options\n",
    "from webdriver_manager.chrome import ChromeDriverManager\n",
    "from selenium.webdriver.common.action_chains import ActionChains\n",
    "import time\n",
    "import re\n",
    "import warnings  \n",
    "warnings.simplefilter('ignore')\n",
    "\n",
    "opciones=Options()\n",
    "\n",
    "opciones.add_experimental_option('excludeSwitches', ['enable-automation'])\n",
    "opciones.add_experimental_option('useAutomationExtension', False)\n",
    "opciones.headless=False   \n",
    "opciones.add_argument('--start-maximized')         \n",
    "#opciones.add_argument('user-data-dir=selenium')   \n",
    "#opciones.add_extension('driver_folder/adblock.crx')       \n",
    "opciones.add_argument('--incognito')\n",
    "\n",
    "#driver = \"./chromedriver.exe\"\n",
    "#driver = webdriver.Chrome(driver,options = opciones)"
   ]
  },
  {
   "cell_type": "code",
   "execution_count": 2,
   "id": "19e2027d",
   "metadata": {},
   "outputs": [],
   "source": [
    "#driver = \"./chromedriver.exe\"\n",
    "#driver = webdriver.Chrome(driver,options = opciones)"
   ]
  },
  {
   "cell_type": "markdown",
   "id": "7a790a44",
   "metadata": {},
   "source": [
    "### Loading 150 URLs"
   ]
  },
  {
   "cell_type": "code",
   "execution_count": 3,
   "id": "441c9c07",
   "metadata": {
    "scrolled": true
   },
   "outputs": [],
   "source": [
    "links1 = ['https://www.airbnb.es/s/Tenerife/homes?tab_id=home_tab&refinement_paths%5B%5D=%2Fhomes&flexible_trip_dates%5B%5D=may&date_picker_type=flexible_dates&flexible_trip_lengths%5B%5D=one_week&adults=2&source=structured_search_input_header&search_type=user_map_move&query=Tenerife%2C%20Canary%20Islands%2C%20Spain&ne_lat=28.242042853019992&ne_lng=-16.836107795033683&sw_lat=28.23556828487494&sw_lng=-16.847083394322624&zoom=17&search_by_map=true']\n",
    "links2 = ['https://www.airbnb.es/s/Tenerife/homes?tab_id=home_tab&refinement_paths%5B%5D=%2Fhomes&flexible_trip_dates%5B%5D=may&date_picker_type=flexible_dates&flexible_trip_lengths%5B%5D=one_week&adults=2&source=structured_search_input_header&search_type=user_map_move&query=Tenerife%2C%20Canary%20Islands%2C%20Spain&ne_lat=28.254357625632053&ne_lng=-16.830260579381218&sw_lat=28.241409591429555&sw_lng=-16.8522117779591&zoom=16&search_by_map=true']\n",
    "links3 = ['https://www.airbnb.es/s/Tenerife/homes?tab_id=home_tab&refinement_paths%5B%5D=%2Fhomes&flexible_trip_dates%5B%5D=may&date_picker_type=flexible_dates&flexible_trip_lengths%5B%5D=one_week&adults=2&source=structured_search_input_header&search_type=user_map_move&query=Tenerife%2C%20Canary%20Islands%2C%20Spain&ne_lat=28.303127719306115&ne_lng=-16.80191093472817&sw_lat=28.290185611614316&sw_lng=-16.82386213330605&zoom=16&search_by_map=true']\n",
    "links4 = ['https://www.airbnb.es/s/Tenerife/homes?tab_id=home_tab&refinement_paths%5B%5D=%2Fhomes&flexible_trip_dates%5B%5D=may&date_picker_type=flexible_dates&flexible_trip_lengths%5B%5D=one_week&adults=2&source=structured_search_input_header&search_type=user_map_move&query=Tenerife%2C%20Canary%20Islands%2C%20Spain&ne_lat=28.085087812465485&ne_lng=-16.599944112701053&sw_lat=28.03320429653531&sw_lng=-16.687748907012576&zoom=14&search_by_map=true']\n",
    "links5 = ['https://www.airbnb.es/s/Tenerife/homes?tab_id=home_tab&refinement_paths%5B%5D=%2Fhomes&flexible_trip_dates%5B%5D=may&date_picker_type=flexible_dates&flexible_trip_lengths%5B%5D=one_week&adults=2&source=structured_search_input_header&search_type=user_map_move&query=Tenerife%2C%20Canary%20Islands%2C%20Spain&ne_lat=28.029253163411575&ne_lng=-16.645368800167148&sw_lat=28.003301065613293&sw_lng=-16.68927119732291&zoom=15&search_by_map=true']\n",
    "links6 = ['https://www.airbnb.es/s/Tenerife/homes?tab_id=home_tab&refinement_paths%5B%5D=%2Fhomes&flexible_trip_dates%5B%5D=may&date_picker_type=flexible_dates&flexible_trip_lengths%5B%5D=one_week&adults=2&source=structured_search_input_header&search_type=user_map_move&query=Tenerife%2C%20Canary%20Islands%2C%20Spain&ne_lat=28.047649002863203&ne_lng=-16.643073255690467&sw_lat=28.021701340383046&sw_lng=-16.68697565284623&zoom=15&search_by_map=true']\n",
    "links7 = ['https://www.airbnb.es/s/Tenerife/homes?tab_id=home_tab&refinement_paths%5B%5D=%2Fhomes&flexible_trip_dates%5B%5D=may&date_picker_type=flexible_dates&flexible_trip_lengths%5B%5D=one_week&adults=2&source=structured_search_input_header&search_type=user_map_move&query=Tenerife%2C%20Canary%20Islands%2C%20Spain&ne_lat=28.01422726256964&ne_lng=-16.62350006197451&sw_lat=28.00125018479693&sw_lng=-16.64545126055239&zoom=16&search_by_map=true']\n",
    "links8 = ['https://www.airbnb.es/s/Tenerife/homes?tab_id=home_tab&refinement_paths%5B%5D=%2Fhomes&flexible_trip_dates%5B%5D=may&date_picker_type=flexible_dates&flexible_trip_lengths%5B%5D=one_week&adults=2&source=structured_search_input_header&search_type=user_map_move&query=Tenerife%2C%20Canary%20Islands%2C%20Spain&ne_lat=28.034675201140328&ne_lng=-16.509840251073285&sw_lat=27.98276736612947&sw_lng=-16.59764504538481&zoom=14&search_by_map=true']\n",
    "links9 = ['https://www.airbnb.es/s/Tenerife/homes?tab_id=home_tab&refinement_paths%5B%5D=%2Fhomes&flexible_trip_dates%5B%5D=may&date_picker_type=flexible_dates&flexible_trip_lengths%5B%5D=one_week&adults=2&source=structured_search_input_header&search_type=user_map_move&query=Tenerife%2C%20Canary%20Islands%2C%20Spain&ne_lat=28.12055107923037&ne_lng=-16.53955944083944&sw_lat=28.06868469489067&sw_lng=-16.627364235150964&zoom=14&search_by_map=true']\n",
    "links10 = ['https://www.airbnb.es/s/Tenerife/homes?tab_id=home_tab&refinement_paths%5B%5D=%2Fhomes&flexible_trip_dates%5B%5D=may&date_picker_type=flexible_dates&flexible_trip_lengths%5B%5D=one_week&adults=2&source=structured_search_input_header&search_type=user_map_move&query=Tenerife%2C%20Canary%20Islands%2C%20Spain&ne_lat=28.17904090722054&ne_lng=-16.35306022249341&sw_lat=28.075339652777163&sw_lng=-16.52866981111646&zoom=13&search_by_map=true']\n",
    "    \n",
    "    \n",
    "    \n",
    "for i in range (20,281,20):\n",
    "    links1.append(f'https://www.airbnb.es/s/Tenerife/homes?tab_id=home_tab&refinement_paths%5B%5D=%2Fhomes&flexible_trip_dates%5B%5D=may&date_picker_type=flexible_dates&flexible_trip_lengths%5B%5D=one_week&adults=2&source=structured_search_input_header&search_type=user_map_move&query=Tenerife%2C%20Canary%20Islands%2C%20Spain&ne_lat=28.242042853019992&ne_lng=-16.836107795033683&sw_lat=28.23556828487494&sw_lng=-16.847083394322624&zoom=17&search_by_map=true&federated_search_session_id=146430ac-084b-4d42-8ddf-18eb8a6c4362&pagination_search=true&items_offset={i}&section_offset=3')\n",
    "    links2.append(f'https://www.airbnb.es/s/Tenerife/homes?tab_id=home_tab&refinement_paths%5B%5D=%2Fhomes&flexible_trip_dates%5B%5D=may&date_picker_type=flexible_dates&flexible_trip_lengths%5B%5D=one_week&adults=2&source=structured_search_input_header&search_type=user_map_move&query=Tenerife%2C%20Canary%20Islands%2C%20Spain&ne_lat=28.254357625632053&ne_lng=-16.830260579381218&sw_lat=28.241409591429555&sw_lng=-16.8522117779591&zoom=16&search_by_map=true&federated_search_session_id=9560ba5d-b693-40bb-a395-111a3630f719&pagination_search=true&items_offset={i}&section_offset=3')\n",
    "    links3.append(f'https://www.airbnb.es/s/Tenerife/homes?tab_id=home_tab&refinement_paths%5B%5D=%2Fhomes&flexible_trip_dates%5B%5D=may&date_picker_type=flexible_dates&flexible_trip_lengths%5B%5D=one_week&adults=2&source=structured_search_input_header&search_type=user_map_move&query=Tenerife%2C%20Canary%20Islands%2C%20Spain&ne_lat=28.303127719306115&ne_lng=-16.80191093472817&sw_lat=28.290185611614316&sw_lng=-16.82386213330605&zoom=16&search_by_map=true')\n",
    "    links4.append(f'https://www.airbnb.es/s/Tenerife/homes?tab_id=home_tab&refinement_paths%5B%5D=%2Fhomes&flexible_trip_dates%5B%5D=may&date_picker_type=flexible_dates&flexible_trip_lengths%5B%5D=one_week&adults=2&source=structured_search_input_header&search_type=user_map_move&query=Tenerife%2C%20Canary%20Islands%2C%20Spain&ne_lat=28.085087812465485&ne_lng=-16.599944112701053&sw_lat=28.03320429653531&sw_lng=-16.687748907012576&zoom=14&search_by_map=true&federated_search_session_id=98486487-de66-422f-9ca9-4437412329c9&pagination_search=true&items_offset={i}&section_offset=3')\n",
    "    links5.append(f'https://www.airbnb.es/s/Tenerife/homes?tab_id=home_tab&refinement_paths%5B%5D=%2Fhomes&flexible_trip_dates%5B%5D=may&date_picker_type=flexible_dates&flexible_trip_lengths%5B%5D=one_week&adults=2&source=structured_search_input_header&search_type=user_map_move&query=Tenerife%2C%20Canary%20Islands%2C%20Spain&ne_lat=28.029253163411575&ne_lng=-16.645368800167148&sw_lat=28.003301065613293&sw_lng=-16.68927119732291&zoom=15&search_by_map=true&federated_search_session_id=1975fd78-2a72-42f9-ad79-8ccb3d8c68c6&pagination_search=true&items_offset={i}&section_offset=3')\n",
    "    links6.append(f'https://www.airbnb.es/s/Tenerife/homes?tab_id=home_tab&refinement_paths%5B%5D=%2Fhomes&flexible_trip_dates%5B%5D=may&date_picker_type=flexible_dates&flexible_trip_lengths%5B%5D=one_week&adults=2&source=structured_search_input_header&search_type=user_map_move&query=Tenerife%2C%20Canary%20Islands%2C%20Spain&ne_lat=28.047649002863203&ne_lng=-16.643073255690467&sw_lat=28.021701340383046&sw_lng=-16.68697565284623&zoom=15&search_by_map=true&federated_search_session_id=5c6ff8d2-100d-44fe-be18-b513c0632da0&pagination_search=true&items_offset=20&section_offset=3')\n",
    "    links7.append(f'https://www.airbnb.es/s/Tenerife/homes?tab_id=home_tab&refinement_paths%5B%5D=%2Fhomes&flexible_trip_dates%5B%5D=may&date_picker_type=flexible_dates&flexible_trip_lengths%5B%5D=one_week&adults=2&source=structured_search_input_header&search_type=user_map_move&query=Tenerife%2C%20Canary%20Islands%2C%20Spain&ne_lat=28.01422726256964&ne_lng=-16.62350006197451&sw_lat=28.00125018479693&sw_lng=-16.64545126055239&zoom=16&search_by_map=true&federated_search_session_id=c0a5772e-f491-4780-ba22-e49294949d3a&pagination_search=true&items_offset={i}&section_offset=3')\n",
    "    links8.append(f'https://www.airbnb.es/s/Tenerife/homes?tab_id=home_tab&refinement_paths%5B%5D=%2Fhomes&flexible_trip_dates%5B%5D=may&date_picker_type=flexible_dates&flexible_trip_lengths%5B%5D=one_week&adults=2&source=structured_search_input_header&search_type=user_map_move&query=Tenerife%2C%20Canary%20Islands%2C%20Spain&ne_lat=28.034675201140328&ne_lng=-16.509840251073285&sw_lat=27.98276736612947&sw_lng=-16.59764504538481&zoom=14&search_by_map=true&federated_search_session_id=7364249c-586c-4e14-8988-f6eb9fdd04b1&pagination_search=true&items_offset={i}&section_offset=3')\n",
    "    links9.append(f'https://www.airbnb.es/s/Tenerife/homes?tab_id=home_tab&refinement_paths%5B%5D=%2Fhomes&flexible_trip_dates%5B%5D=may&date_picker_type=flexible_dates&flexible_trip_lengths%5B%5D=one_week&adults=2&source=structured_search_input_header&search_type=user_map_move&query=Tenerife%2C%20Canary%20Islands%2C%20Spain&ne_lat=28.12055107923037&ne_lng=-16.53955944083944&sw_lat=28.06868469489067&sw_lng=-16.627364235150964&zoom=14&search_by_map=true&federated_search_session_id=d9cd19b4-0d29-4d0b-809a-f78e0a728b86&pagination_search=true&items_offset={i}&section_offset=3')\n",
    "    links10.append(f'https://www.airbnb.es/s/Tenerife/homes?tab_id=home_tab&refinement_paths%5B%5D=%2Fhomes&flexible_trip_dates%5B%5D=may&date_picker_type=flexible_dates&flexible_trip_lengths%5B%5D=one_week&adults=2&source=structured_search_input_header&search_type=user_map_move&query=Tenerife%2C%20Canary%20Islands%2C%20Spain&ne_lat=28.17904090722054&ne_lng=-16.35306022249341&sw_lat=28.075339652777163&sw_lng=-16.52866981111646&zoom=13&search_by_map=true&federated_search_session_id=9b4bcd94-89e9-4a63-bd0f-5be3d0fabe1d&pagination_search=true&items_offset={i}&section_offset=3')\n",
    "    "
   ]
  },
  {
   "cell_type": "code",
   "execution_count": 4,
   "id": "0c45540f",
   "metadata": {},
   "outputs": [],
   "source": [
    "links = [\n",
    "    links1,\n",
    "    links2,\n",
    "    links3,\n",
    "    links4,\n",
    "    links5,\n",
    "    links6,\n",
    "    links7,\n",
    "    links8,\n",
    "    links9,\n",
    "    links10]"
   ]
  },
  {
   "cell_type": "code",
   "execution_count": 21,
   "id": "bca27b8c",
   "metadata": {
    "scrolled": false
   },
   "outputs": [
    {
     "data": {
      "text/plain": [
       "['https://www.airbnb.es/s/tenerife/homes?tab_id=home_tab&refinement_paths%5B%5D=%2Fhomes&flexible_trip_dates%5B%5D=may&date_picker_type=flexible_dates&adults=2&source=structured_search_input_header&search_type=user_map_move&query=Tenerife%2C%20Canary%20Islands%2C%20Spain&ne_lat=28.08349355677535&ne_lng=-16.72498896208783&sw_lat=28.077009390785193&sw_lng=-16.72636456137677&zoom=17&search_by_map=true&flexible_trip_lengths%5B%5D=one_week',\n",
       " 'https://www.airbnb.es/s/tenerife/homes?tab_id=home_tab&refinement_paths%5B%5D=%2Fhomes&flexible_trip_dates%5B%5D=may&date_picker_type=flexible_dates&adults=2&source=structured_search_input_header&search_type=user_map_move&query=Tenerife%2C%20Canary%20Islands%2C%20Spain&ne_lat=28.08349355677535&ne_lng=-16.72498896208783&sw_lat=28.077009390785193&sw_lng=-16.72636456137677&zoom=17&search_by_map=true&flexible_trip_lengths%5B%5D=one_week&federated_search_session_id=1b4ef47e-178f-48fd-aec6-8570a710e98d&pagination_search=true&items_offset=20&section_offset=3',\n",
       " 'https://www.airbnb.es/s/tenerife/homes?tab_id=home_tab&refinement_paths%5B%5D=%2Fhomes&flexible_trip_dates%5B%5D=may&date_picker_type=flexible_dates&adults=2&source=structured_search_input_header&search_type=user_map_move&query=Tenerife%2C%20Canary%20Islands%2C%20Spain&ne_lat=28.08349355677535&ne_lng=-16.72498896208783&sw_lat=28.077009390785193&sw_lng=-16.72636456137677&zoom=17&search_by_map=true&flexible_trip_lengths%5B%5D=one_week&federated_search_session_id=1b4ef47e-178f-48fd-aec6-8570a710e98d&pagination_search=true&items_offset=40&section_offset=3',\n",
       " 'https://www.airbnb.es/s/tenerife/homes?tab_id=home_tab&refinement_paths%5B%5D=%2Fhomes&flexible_trip_dates%5B%5D=may&date_picker_type=flexible_dates&adults=2&source=structured_search_input_header&search_type=user_map_move&query=Tenerife%2C%20Canary%20Islands%2C%20Spain&ne_lat=28.08349355677535&ne_lng=-16.72498896208783&sw_lat=28.077009390785193&sw_lng=-16.72636456137677&zoom=17&search_by_map=true&flexible_trip_lengths%5B%5D=one_week&federated_search_session_id=1b4ef47e-178f-48fd-aec6-8570a710e98d&pagination_search=true&items_offset=60&section_offset=3',\n",
       " 'https://www.airbnb.es/s/tenerife/homes?tab_id=home_tab&refinement_paths%5B%5D=%2Fhomes&flexible_trip_dates%5B%5D=may&date_picker_type=flexible_dates&adults=2&source=structured_search_input_header&search_type=user_map_move&query=Tenerife%2C%20Canary%20Islands%2C%20Spain&ne_lat=28.08349355677535&ne_lng=-16.72498896208783&sw_lat=28.077009390785193&sw_lng=-16.72636456137677&zoom=17&search_by_map=true&flexible_trip_lengths%5B%5D=one_week&federated_search_session_id=1b4ef47e-178f-48fd-aec6-8570a710e98d&pagination_search=true&items_offset=80&section_offset=3',\n",
       " 'https://www.airbnb.es/s/tenerife/homes?tab_id=home_tab&refinement_paths%5B%5D=%2Fhomes&flexible_trip_dates%5B%5D=may&date_picker_type=flexible_dates&adults=2&source=structured_search_input_header&search_type=user_map_move&query=Tenerife%2C%20Canary%20Islands%2C%20Spain&ne_lat=28.08349355677535&ne_lng=-16.72498896208783&sw_lat=28.077009390785193&sw_lng=-16.72636456137677&zoom=17&search_by_map=true&flexible_trip_lengths%5B%5D=one_week&federated_search_session_id=1b4ef47e-178f-48fd-aec6-8570a710e98d&pagination_search=true&items_offset=100&section_offset=3',\n",
       " 'https://www.airbnb.es/s/tenerife/homes?tab_id=home_tab&refinement_paths%5B%5D=%2Fhomes&flexible_trip_dates%5B%5D=may&date_picker_type=flexible_dates&adults=2&source=structured_search_input_header&search_type=user_map_move&query=Tenerife%2C%20Canary%20Islands%2C%20Spain&ne_lat=28.08349355677535&ne_lng=-16.72498896208783&sw_lat=28.077009390785193&sw_lng=-16.72636456137677&zoom=17&search_by_map=true&flexible_trip_lengths%5B%5D=one_week&federated_search_session_id=1b4ef47e-178f-48fd-aec6-8570a710e98d&pagination_search=true&items_offset=120&section_offset=3',\n",
       " 'https://www.airbnb.es/s/tenerife/homes?tab_id=home_tab&refinement_paths%5B%5D=%2Fhomes&flexible_trip_dates%5B%5D=may&date_picker_type=flexible_dates&adults=2&source=structured_search_input_header&search_type=user_map_move&query=Tenerife%2C%20Canary%20Islands%2C%20Spain&ne_lat=28.08349355677535&ne_lng=-16.72498896208783&sw_lat=28.077009390785193&sw_lng=-16.72636456137677&zoom=17&search_by_map=true&flexible_trip_lengths%5B%5D=one_week&federated_search_session_id=1b4ef47e-178f-48fd-aec6-8570a710e98d&pagination_search=true&items_offset=140&section_offset=3',\n",
       " 'https://www.airbnb.es/s/tenerife/homes?tab_id=home_tab&refinement_paths%5B%5D=%2Fhomes&flexible_trip_dates%5B%5D=may&date_picker_type=flexible_dates&adults=2&source=structured_search_input_header&search_type=user_map_move&query=Tenerife%2C%20Canary%20Islands%2C%20Spain&ne_lat=28.08349355677535&ne_lng=-16.72498896208783&sw_lat=28.077009390785193&sw_lng=-16.72636456137677&zoom=17&search_by_map=true&flexible_trip_lengths%5B%5D=one_week&federated_search_session_id=1b4ef47e-178f-48fd-aec6-8570a710e98d&pagination_search=true&items_offset=160&section_offset=3',\n",
       " 'https://www.airbnb.es/s/tenerife/homes?tab_id=home_tab&refinement_paths%5B%5D=%2Fhomes&flexible_trip_dates%5B%5D=may&date_picker_type=flexible_dates&adults=2&source=structured_search_input_header&search_type=user_map_move&query=Tenerife%2C%20Canary%20Islands%2C%20Spain&ne_lat=28.08349355677535&ne_lng=-16.72498896208783&sw_lat=28.077009390785193&sw_lng=-16.72636456137677&zoom=17&search_by_map=true&flexible_trip_lengths%5B%5D=one_week&federated_search_session_id=1b4ef47e-178f-48fd-aec6-8570a710e98d&pagination_search=true&items_offset=180&section_offset=3',\n",
       " 'https://www.airbnb.es/s/tenerife/homes?tab_id=home_tab&refinement_paths%5B%5D=%2Fhomes&flexible_trip_dates%5B%5D=may&date_picker_type=flexible_dates&adults=2&source=structured_search_input_header&search_type=user_map_move&query=Tenerife%2C%20Canary%20Islands%2C%20Spain&ne_lat=28.08349355677535&ne_lng=-16.72498896208783&sw_lat=28.077009390785193&sw_lng=-16.72636456137677&zoom=17&search_by_map=true&flexible_trip_lengths%5B%5D=one_week&federated_search_session_id=1b4ef47e-178f-48fd-aec6-8570a710e98d&pagination_search=true&items_offset=200&section_offset=3',\n",
       " 'https://www.airbnb.es/s/tenerife/homes?tab_id=home_tab&refinement_paths%5B%5D=%2Fhomes&flexible_trip_dates%5B%5D=may&date_picker_type=flexible_dates&adults=2&source=structured_search_input_header&search_type=user_map_move&query=Tenerife%2C%20Canary%20Islands%2C%20Spain&ne_lat=28.08349355677535&ne_lng=-16.72498896208783&sw_lat=28.077009390785193&sw_lng=-16.72636456137677&zoom=17&search_by_map=true&flexible_trip_lengths%5B%5D=one_week&federated_search_session_id=1b4ef47e-178f-48fd-aec6-8570a710e98d&pagination_search=true&items_offset=220&section_offset=3',\n",
       " 'https://www.airbnb.es/s/tenerife/homes?tab_id=home_tab&refinement_paths%5B%5D=%2Fhomes&flexible_trip_dates%5B%5D=may&date_picker_type=flexible_dates&adults=2&source=structured_search_input_header&search_type=user_map_move&query=Tenerife%2C%20Canary%20Islands%2C%20Spain&ne_lat=28.08349355677535&ne_lng=-16.72498896208783&sw_lat=28.077009390785193&sw_lng=-16.72636456137677&zoom=17&search_by_map=true&flexible_trip_lengths%5B%5D=one_week&federated_search_session_id=1b4ef47e-178f-48fd-aec6-8570a710e98d&pagination_search=true&items_offset=240&section_offset=3',\n",
       " 'https://www.airbnb.es/s/tenerife/homes?tab_id=home_tab&refinement_paths%5B%5D=%2Fhomes&flexible_trip_dates%5B%5D=may&date_picker_type=flexible_dates&adults=2&source=structured_search_input_header&search_type=user_map_move&query=Tenerife%2C%20Canary%20Islands%2C%20Spain&ne_lat=28.08349355677535&ne_lng=-16.72498896208783&sw_lat=28.077009390785193&sw_lng=-16.72636456137677&zoom=17&search_by_map=true&flexible_trip_lengths%5B%5D=one_week&federated_search_session_id=1b4ef47e-178f-48fd-aec6-8570a710e98d&pagination_search=true&items_offset=260&section_offset=3',\n",
       " 'https://www.airbnb.es/s/tenerife/homes?tab_id=home_tab&refinement_paths%5B%5D=%2Fhomes&flexible_trip_dates%5B%5D=may&date_picker_type=flexible_dates&adults=2&source=structured_search_input_header&search_type=user_map_move&query=Tenerife%2C%20Canary%20Islands%2C%20Spain&ne_lat=28.08349355677535&ne_lng=-16.72498896208783&sw_lat=28.077009390785193&sw_lng=-16.72636456137677&zoom=17&search_by_map=true&flexible_trip_lengths%5B%5D=one_week&federated_search_session_id=1b4ef47e-178f-48fd-aec6-8570a710e98d&pagination_search=true&items_offset=280&section_offset=3']"
      ]
     },
     "execution_count": 21,
     "metadata": {},
     "output_type": "execute_result"
    }
   ],
   "source": [
    "links10"
   ]
  },
  {
   "cell_type": "markdown",
   "id": "44bda3b0",
   "metadata": {},
   "source": [
    "### Initialize dicts"
   ]
  },
  {
   "cell_type": "code",
   "execution_count": 4,
   "id": "45853a6e",
   "metadata": {},
   "outputs": [],
   "source": [
    "data = {}\n",
    "#data1 = {}\n",
    "#data2 = {}\n",
    "#data3 = {}\n",
    "#data4 = {}\n",
    "#data5 = {}\n",
    "#data6 = {}\n",
    "#data7 = {}\n",
    "#data8 = {}\n",
    "#data9 = {}\n",
    "#data10 = {}\n",
    "report = []"
   ]
  },
  {
   "cell_type": "markdown",
   "id": "30a0f794",
   "metadata": {},
   "source": [
    "### Initialize turbapushka"
   ]
  },
  {
   "cell_type": "code",
   "execution_count": 5,
   "id": "eff0ee5c",
   "metadata": {},
   "outputs": [],
   "source": [
    "def turbapushka(lugar):\n",
    "    driver = \"./chromedriver.exe\"\n",
    "    driver = webdriver.Chrome(driver,options = opciones)\n",
    "    driver.get(lugar)\n",
    "    time.sleep(2)\n",
    "    ###acccept cookies (extended)\n",
    "    try:\n",
    "        cookies = driver.find_element_by_xpath('/html/body/div[5]/div/div/div[1]/div/div[3]/section/div[2]/div[2]/button')\n",
    "        cookies.click()\n",
    "    except:\n",
    "        try:\n",
    "            cookies = driver.find_element_by_xpath('/html/body/div[5]/div/div/div[1]/div/div[2]/section/div[2]/div[2]/button')\n",
    "            cookies.click()\n",
    "        except:\n",
    "            try:\n",
    "                cookies = driver.find_element_by_xpath('/html/body/div[5]/div/div/div[1]/div/div[2]/section/div[2]/div[2]/button')\n",
    "            except:\n",
    "                pass\n",
    "    \n",
    "    ### Tab switching and URL getting/scrapping\n",
    "    \n",
    "    \n",
    "    scroll = 0\n",
    "    elemo = 1\n",
    "    \n",
    "    while scroll < 4850:\n",
    "        for i in range (1,21):\n",
    "            time.sleep(1)\n",
    "            driver.execute_script(f\"window.scrollTo(0, {scroll})\")\n",
    "            driver.switch_to.window(driver.window_handles[0])\n",
    "            try:\n",
    "                room = driver.find_element_by_xpath(f'//*[@id=\"site-content\"]/div[2]/div/div[4]/div/div/div/div/div/div/div[2]/div/div/div/div/div/div[{elemo}]/div/div/div[2]/div/div/div/div[1]/a')\n",
    "                room.click()\n",
    "            except:\n",
    "                try:\n",
    "                    room = driver.find_element_by_xpath(f'//*[@id=\"site-content\"]/div[2]/div/div[4]/div/div/div/div/div/div/div[2]/div/div/div/div/div/div[{elemo}]/div/div/div[2]/div/div/div/div[2]/a')\n",
    "                    room.click()\n",
    "                except:\n",
    "                    try:\n",
    "                        room = driver.find_element_by_xpath(f'//*[@id=\"site-content\"]/div[2]/div/div[5]/div/div/div/div/div/div/div[2]/div/div/div/div/div/div[{elemo}]/div/div/div[2]/div/div/div/div[2]/a')\n",
    "                        room.click()\n",
    "                    except:\n",
    "                        try:\n",
    "                            room = driver.find_element_by_xpath(f'//*[@id=\"site-content\"]/div[2]/div/div[5]/div/div/div/div/div/div/div[2]/div/div/div/div/div/div[{elemo}]/div/div/div[2]/div/div/div/div[1]/a')\n",
    "                            room.click()\n",
    "                        except:\n",
    "                            try:\n",
    "                                room = driver.find_element_by_xpath(f'//*[@id=\"site-content\"]/div[2]/div/div[3]/div/div/div/div/div/div/div[2]/div/div/div/div/div/div[{elemo}]/div/div/div[2]/div/div/div/div[2]/a')\n",
    "                                room.click()\n",
    "                            except:\n",
    "                                room = driver.find_element_by_xpath(f'//*[@id=\"site-content\"]/div[2]/div/div[3]/div/div/div/div/div/div/div[2]/div/div/div/div/div/div[{elemo}]/div/div/div[2]/div/div/div/div[1]/a')\n",
    "                                room.click()\n",
    "            scroll += 250\n",
    "            elemo += 1\n",
    "            driver.switch_to.window(driver.window_handles[i])\n",
    "            \n",
    "    #get title\n",
    "            time.sleep(1)\n",
    "            try:\n",
    "                time.sleep(1)\n",
    "                titulo = driver.find_element_by_xpath('//*[@id=\"site-content\"]/div/div[1]/div[1]/div[1]/div/div/div/div/section/div[1]/span/h1')\n",
    "            except:\n",
    "                try:\n",
    "                    titulo = driver.find_element_by_xpath('//*[@id=\"site-content\"]/div/div[1]/div[3]/div/div/div/div/section/div[1]/span/h1')\n",
    "                except:\n",
    "                    try:\n",
    "                        titulo = driver.find_element_by_xpath('//*[@id=\"site-content\"]/div/div[1]/div[3]/div/div/div/div/section/div[1]/span[2]/h1')\n",
    "                    except:\n",
    "                        titulo = driver.find_element_by_xpath('//*[@id=\"site-content\"]/div/div[1]/div[1]/div[1]/div/div/div/div/section/div[1]')\n",
    "            name = str(titulo.text)\n",
    "    #get url\n",
    "            time.sleep(2)\n",
    "            address = driver.current_url\n",
    "            identifier = address[28:36]\n",
    "            \n",
    "    #get price\n",
    "            time.sleep(2)\n",
    "            try:\n",
    "                precio = driver.find_element_by_xpath('//*[@id=\"site-content\"]/div/div[1]/div[3]/div/div[2]/div/div/div[1]/div/div/div/div/div/div/div[1]/div[1]/div[1]/div/div/div/span[1]')\n",
    "            except:\n",
    "                precio = driver.find_element_by_xpath('//*[@id=\"site-content\"]/div/div[1]/div[17]/div/div/div/div/div/div/div/div/div[1]/div[1]/div/div/div/span[1]')\n",
    "            night_cost = str(precio.text)\n",
    "            \n",
    "            \n",
    "    #get basic data\n",
    "            time.sleep(2)\n",
    "            try:\n",
    "                basic_data = driver.find_element_by_xpath('//*[@id=\"site-content\"]/div/div[1]/div[3]/div/div[1]/div/div[1]/div/div/section/div/div/div/div[1]/ol')\n",
    "            except: \n",
    "                basic_data = driver.find_element_by_xpath('//*[@id=\"site-content\"]/div/div[1]/div[5]/div/div/div/div[2]/section/div/div/ol')\n",
    "            basics = str(basic_data.text)\n",
    "            \n",
    "            \n",
    "    #get coordinates\n",
    "            driver.execute_script(\"window.scrollTo(0, 3500)\")\n",
    "            time.sleep(1)\n",
    "            elems = driver.find_elements_by_xpath(\"//a[@href]\")\n",
    "            links = []\n",
    "            for elem in elems:\n",
    "                if 'maps' in str(elem.get_attribute(\"href\")):\n",
    "                    links.append(str(elem.get_attribute(\"href\")))       \n",
    "            strmap = '-'.join(links)\n",
    "            coordinates = re.findall('\\d{2}\\.\\d{5}\\,\\-\\d{2}\\.\\d{5}|\\d{2}\\.\\d{4}\\,\\-\\d{2}\\.\\d{4}|\\d{2}\\.\\d{5}\\,\\-\\d{2}\\.\\d{3}', strmap)\n",
    "            \n",
    "            data[identifier] = [name, address, basics, coordinates, night_cost]\n",
    "            \n",
    "            \n",
    "            print('######')\n",
    "            print(identifier)\n",
    "            print(name)\n",
    "            print(address)\n",
    "            print(basics)\n",
    "            print(coordinates)\n",
    "            print(night_cost)\n",
    "            print('######')\n",
    "            "
   ]
  },
  {
   "cell_type": "markdown",
   "id": "24ece113",
   "metadata": {},
   "source": [
    "### Execution"
   ]
  },
  {
   "cell_type": "code",
   "execution_count": 7,
   "id": "8fdf2d85",
   "metadata": {},
   "outputs": [],
   "source": [
    "report = []"
   ]
  },
  {
   "cell_type": "code",
   "execution_count": 6,
   "id": "4eadcdea",
   "metadata": {
    "scrolled": true
   },
   "outputs": [
    {
     "ename": "NameError",
     "evalue": "name 'report' is not defined",
     "output_type": "error",
     "traceback": [
      "\u001b[0;31m---------------------------------------------------------------------------\u001b[0m",
      "\u001b[0;31mNameError\u001b[0m                                 Traceback (most recent call last)",
      "\u001b[0;32m/tmp/ipykernel_1763/3692175408.py\u001b[0m in \u001b[0;36m<module>\u001b[0;34m\u001b[0m\n\u001b[1;32m     10\u001b[0m         \u001b[0;32mtry\u001b[0m\u001b[0;34m:\u001b[0m\u001b[0;34m\u001b[0m\u001b[0;34m\u001b[0m\u001b[0m\n\u001b[0;32m---> 11\u001b[0;31m             \u001b[0mturbapushka\u001b[0m\u001b[0;34m(\u001b[0m\u001b[0mi\u001b[0m\u001b[0;34m)\u001b[0m\u001b[0;34m\u001b[0m\u001b[0;34m\u001b[0m\u001b[0m\n\u001b[0m\u001b[1;32m     12\u001b[0m             \u001b[0mprint\u001b[0m\u001b[0;34m(\u001b[0m\u001b[0;34m'pag scrap'\u001b[0m\u001b[0;34m)\u001b[0m\u001b[0;34m\u001b[0m\u001b[0;34m\u001b[0m\u001b[0m\n",
      "\u001b[0;32m/tmp/ipykernel_1763/1487113180.py\u001b[0m in \u001b[0;36mturbapushka\u001b[0;34m(lugar)\u001b[0m\n\u001b[1;32m    104\u001b[0m \u001b[0;34m\u001b[0m\u001b[0m\n\u001b[0;32m--> 105\u001b[0;31m             \u001b[0mdata\u001b[0m\u001b[0;34m[\u001b[0m\u001b[0midentifier\u001b[0m\u001b[0;34m]\u001b[0m \u001b[0;34m=\u001b[0m \u001b[0;34m[\u001b[0m\u001b[0mname\u001b[0m\u001b[0;34m,\u001b[0m \u001b[0maddress\u001b[0m\u001b[0;34m,\u001b[0m \u001b[0mbasics\u001b[0m\u001b[0;34m,\u001b[0m \u001b[0mcoordinates\u001b[0m\u001b[0;34m,\u001b[0m \u001b[0mnight_cost\u001b[0m\u001b[0;34m]\u001b[0m\u001b[0;34m\u001b[0m\u001b[0;34m\u001b[0m\u001b[0m\n\u001b[0m\u001b[1;32m    106\u001b[0m \u001b[0;34m\u001b[0m\u001b[0m\n",
      "\u001b[0;31mNameError\u001b[0m: name 'data' is not defined",
      "\nDuring handling of the above exception, another exception occurred:\n",
      "\u001b[0;31mNameError\u001b[0m                                 Traceback (most recent call last)",
      "\u001b[0;32m/tmp/ipykernel_1763/3692175408.py\u001b[0m in \u001b[0;36m<module>\u001b[0;34m\u001b[0m\n\u001b[1;32m     18\u001b[0m                 \u001b[0me\u001b[0m \u001b[0;34m=\u001b[0m \u001b[0me\u001b[0m\u001b[0;34m[\u001b[0m\u001b[0mcounterstrike\u001b[0m\u001b[0;34m:\u001b[0m\u001b[0;34m]\u001b[0m\u001b[0;34m\u001b[0m\u001b[0;34m\u001b[0m\u001b[0m\n\u001b[0;32m---> 19\u001b[0;31m                 \u001b[0mturbapushka\u001b[0m\u001b[0;34m(\u001b[0m\u001b[0mi\u001b[0m\u001b[0;34m)\u001b[0m\u001b[0;34m\u001b[0m\u001b[0;34m\u001b[0m\u001b[0m\n\u001b[0m\u001b[1;32m     20\u001b[0m                 \u001b[0mprint\u001b[0m\u001b[0;34m(\u001b[0m\u001b[0;34m'pag scrap'\u001b[0m\u001b[0;34m)\u001b[0m\u001b[0;34m\u001b[0m\u001b[0;34m\u001b[0m\u001b[0m\n",
      "\u001b[0;32m/tmp/ipykernel_1763/1487113180.py\u001b[0m in \u001b[0;36mturbapushka\u001b[0;34m(lugar)\u001b[0m\n\u001b[1;32m    104\u001b[0m \u001b[0;34m\u001b[0m\u001b[0m\n\u001b[0;32m--> 105\u001b[0;31m             \u001b[0mdata\u001b[0m\u001b[0;34m[\u001b[0m\u001b[0midentifier\u001b[0m\u001b[0;34m]\u001b[0m \u001b[0;34m=\u001b[0m \u001b[0;34m[\u001b[0m\u001b[0mname\u001b[0m\u001b[0;34m,\u001b[0m \u001b[0maddress\u001b[0m\u001b[0;34m,\u001b[0m \u001b[0mbasics\u001b[0m\u001b[0;34m,\u001b[0m \u001b[0mcoordinates\u001b[0m\u001b[0;34m,\u001b[0m \u001b[0mnight_cost\u001b[0m\u001b[0;34m]\u001b[0m\u001b[0;34m\u001b[0m\u001b[0;34m\u001b[0m\u001b[0m\n\u001b[0m\u001b[1;32m    106\u001b[0m \u001b[0;34m\u001b[0m\u001b[0m\n",
      "\u001b[0;31mNameError\u001b[0m: name 'data' is not defined",
      "\nDuring handling of the above exception, another exception occurred:\n",
      "\u001b[0;31mNameError\u001b[0m                                 Traceback (most recent call last)",
      "\u001b[0;32m/tmp/ipykernel_1763/3692175408.py\u001b[0m in \u001b[0;36m<module>\u001b[0;34m\u001b[0m\n\u001b[1;32m     26\u001b[0m                     \u001b[0me\u001b[0m \u001b[0;34m=\u001b[0m \u001b[0me\u001b[0m\u001b[0;34m[\u001b[0m\u001b[0mcounterstrike\u001b[0m\u001b[0;34m:\u001b[0m\u001b[0;34m]\u001b[0m\u001b[0;34m\u001b[0m\u001b[0;34m\u001b[0m\u001b[0m\n\u001b[0;32m---> 27\u001b[0;31m                     \u001b[0mturbapushka\u001b[0m\u001b[0;34m(\u001b[0m\u001b[0mi\u001b[0m\u001b[0;34m)\u001b[0m\u001b[0;34m\u001b[0m\u001b[0;34m\u001b[0m\u001b[0m\n\u001b[0m\u001b[1;32m     28\u001b[0m                     \u001b[0mprint\u001b[0m\u001b[0;34m(\u001b[0m\u001b[0;34m'pag scrap'\u001b[0m\u001b[0;34m)\u001b[0m\u001b[0;34m\u001b[0m\u001b[0;34m\u001b[0m\u001b[0m\n",
      "\u001b[0;32m/tmp/ipykernel_1763/1487113180.py\u001b[0m in \u001b[0;36mturbapushka\u001b[0;34m(lugar)\u001b[0m\n\u001b[1;32m    104\u001b[0m \u001b[0;34m\u001b[0m\u001b[0m\n\u001b[0;32m--> 105\u001b[0;31m             \u001b[0mdata\u001b[0m\u001b[0;34m[\u001b[0m\u001b[0midentifier\u001b[0m\u001b[0;34m]\u001b[0m \u001b[0;34m=\u001b[0m \u001b[0;34m[\u001b[0m\u001b[0mname\u001b[0m\u001b[0;34m,\u001b[0m \u001b[0maddress\u001b[0m\u001b[0;34m,\u001b[0m \u001b[0mbasics\u001b[0m\u001b[0;34m,\u001b[0m \u001b[0mcoordinates\u001b[0m\u001b[0;34m,\u001b[0m \u001b[0mnight_cost\u001b[0m\u001b[0;34m]\u001b[0m\u001b[0;34m\u001b[0m\u001b[0;34m\u001b[0m\u001b[0m\n\u001b[0m\u001b[1;32m    106\u001b[0m \u001b[0;34m\u001b[0m\u001b[0m\n",
      "\u001b[0;31mNameError\u001b[0m: name 'data' is not defined",
      "\nDuring handling of the above exception, another exception occurred:\n",
      "\u001b[0;31mNameError\u001b[0m                                 Traceback (most recent call last)",
      "\u001b[0;32m/tmp/ipykernel_1763/3692175408.py\u001b[0m in \u001b[0;36m<module>\u001b[0;34m\u001b[0m\n\u001b[1;32m     31\u001b[0m                     \u001b[0mreport\u001b[0m\u001b[0;34m.\u001b[0m\u001b[0mappend\u001b[0m\u001b[0;34m(\u001b[0m\u001b[0;34mf'scrapping of element {cuadrados} failed twice but was completed'\u001b[0m\u001b[0;34m)\u001b[0m\u001b[0;34m\u001b[0m\u001b[0;34m\u001b[0m\u001b[0m\n\u001b[1;32m     32\u001b[0m                 \u001b[0;32mexcept\u001b[0m\u001b[0;34m:\u001b[0m\u001b[0;34m\u001b[0m\u001b[0;34m\u001b[0m\u001b[0m\n\u001b[0;32m---> 33\u001b[0;31m                     \u001b[0mreport\u001b[0m\u001b[0;34m.\u001b[0m\u001b[0mappend\u001b[0m\u001b[0;34m(\u001b[0m\u001b[0;34mf'scrapping of element {cuadrados} failed, partial completion'\u001b[0m\u001b[0;34m)\u001b[0m\u001b[0;34m\u001b[0m\u001b[0;34m\u001b[0m\u001b[0m\n\u001b[0m\u001b[1;32m     34\u001b[0m                     \u001b[0;32mcontinue\u001b[0m\u001b[0;34m\u001b[0m\u001b[0;34m\u001b[0m\u001b[0m\n\u001b[1;32m     35\u001b[0m \u001b[0;34m\u001b[0m\u001b[0m\n",
      "\u001b[0;31mNameError\u001b[0m: name 'report' is not defined"
     ]
    }
   ],
   "source": [
    "# links = lista-de-listas\n",
    "# e = lista\n",
    "# i = link\n",
    "\n",
    "cuadrados = 0\n",
    "for e in links: \n",
    "    cuadrados += 1\n",
    "    counterstrike = 0\n",
    "    for i in e:\n",
    "        try:\n",
    "            turbapushka(i)\n",
    "            print('pag scrap')\n",
    "            print(str(counterstrike))\n",
    "            counterstrike +=1\n",
    "            report.append(f'scrapping of element {cuadrados} completely succesful')\n",
    "        except:\n",
    "            try:\n",
    "                e = e[counterstrike:]\n",
    "                turbapushka(i)\n",
    "                print('pag scrap')\n",
    "                print(str(counterstrike))\n",
    "                counterstrike +=1\n",
    "                report.append(f'scrapping of element {cuadrados} failed twice but was completed')\n",
    "            except:\n",
    "                try:\n",
    "                    e = e[counterstrike:]\n",
    "                    turbapushka(i)\n",
    "                    print('pag scrap')\n",
    "                    print(str(counterstrike))\n",
    "                    counterstrike +=1\n",
    "                    report.append(f'scrapping of element {cuadrados} failed twice but was completed')\n",
    "                except:\n",
    "                    report.append(f'scrapping of element {cuadrados} failed, partial completion')\n",
    "                    continue\n",
    "                    "
   ]
  },
  {
   "cell_type": "code",
   "execution_count": 8,
   "id": "433a812c",
   "metadata": {},
   "outputs": [
    {
     "data": {
      "text/plain": [
       "1699"
      ]
     },
     "execution_count": 8,
     "metadata": {},
     "output_type": "execute_result"
    }
   ],
   "source": [
    "len(data)"
   ]
  },
  {
   "cell_type": "code",
   "execution_count": 15,
   "id": "bd08759c",
   "metadata": {},
   "outputs": [
    {
     "data": {
      "text/plain": [
       "['scrapping of element 1 completely succesful',\n",
       " 'scrapping of element 1 completely succesful',\n",
       " 'scrapping of element 1 failed twice but was completed',\n",
       " 'scrapping of element 1 completely succesful',\n",
       " 'scrapping of element 1 completely succesful',\n",
       " 'scrapping of element 1 completely succesful',\n",
       " 'scrapping of element 1 completely succesful',\n",
       " 'scrapping of element 1 failed twice but was completed',\n",
       " 'scrapping of element 1 completely succesful',\n",
       " 'scrapping of element 1 completely succesful',\n",
       " 'scrapping of element 1 completely succesful',\n",
       " 'scrapping of element 1 completely succesful',\n",
       " 'scrapping of element 1 completely succesful',\n",
       " 'scrapping of element 1 failed, partial completion',\n",
       " 'scrapping of element 1 failed, partial completion',\n",
       " 'scrapping of element 2 completely succesful',\n",
       " 'scrapping of element 2 completely succesful',\n",
       " 'scrapping of element 2 failed twice but was completed',\n",
       " 'scrapping of element 2 completely succesful',\n",
       " 'scrapping of element 2 completely succesful',\n",
       " 'scrapping of element 2 completely succesful',\n",
       " 'scrapping of element 2 completely succesful',\n",
       " 'scrapping of element 2 completely succesful',\n",
       " 'scrapping of element 2 completely succesful',\n",
       " 'scrapping of element 2 failed, partial completion',\n",
       " 'scrapping of element 2 failed, partial completion',\n",
       " 'scrapping of element 2 failed, partial completion',\n",
       " 'scrapping of element 2 failed, partial completion',\n",
       " 'scrapping of element 2 failed, partial completion',\n",
       " 'scrapping of element 2 failed, partial completion',\n",
       " 'scrapping of element 3 completely succesful',\n",
       " 'scrapping of element 3 completely succesful',\n",
       " 'scrapping of element 3 completely succesful',\n",
       " 'scrapping of element 3 failed, partial completion',\n",
       " 'scrapping of element 3 failed, partial completion',\n",
       " 'scrapping of element 3 failed, partial completion',\n",
       " 'scrapping of element 3 failed, partial completion',\n",
       " 'scrapping of element 3 failed, partial completion',\n",
       " 'scrapping of element 3 failed, partial completion',\n",
       " 'scrapping of element 3 failed, partial completion',\n",
       " 'scrapping of element 3 failed, partial completion',\n",
       " 'scrapping of element 3 failed, partial completion',\n",
       " 'scrapping of element 3 failed, partial completion',\n",
       " 'scrapping of element 3 failed, partial completion',\n",
       " 'scrapping of element 3 failed, partial completion',\n",
       " 'scrapping of element 4 completely succesful',\n",
       " 'scrapping of element 4 completely succesful',\n",
       " 'scrapping of element 4 completely succesful',\n",
       " 'scrapping of element 4 completely succesful',\n",
       " 'scrapping of element 4 completely succesful',\n",
       " 'scrapping of element 4 completely succesful',\n",
       " 'scrapping of element 4 completely succesful',\n",
       " 'scrapping of element 4 completely succesful',\n",
       " 'scrapping of element 4 completely succesful',\n",
       " 'scrapping of element 4 completely succesful',\n",
       " 'scrapping of element 4 completely succesful',\n",
       " 'scrapping of element 4 completely succesful',\n",
       " 'scrapping of element 4 completely succesful',\n",
       " 'scrapping of element 4 completely succesful',\n",
       " 'scrapping of element 4 failed, partial completion',\n",
       " 'scrapping of element 5 completely succesful',\n",
       " 'scrapping of element 5 completely succesful',\n",
       " 'scrapping of element 5 completely succesful',\n",
       " 'scrapping of element 5 completely succesful',\n",
       " 'scrapping of element 5 completely succesful',\n",
       " 'scrapping of element 5 completely succesful',\n",
       " 'scrapping of element 5 completely succesful',\n",
       " 'scrapping of element 5 completely succesful',\n",
       " 'scrapping of element 5 completely succesful',\n",
       " 'scrapping of element 5 completely succesful',\n",
       " 'scrapping of element 5 completely succesful',\n",
       " 'scrapping of element 5 completely succesful',\n",
       " 'scrapping of element 5 failed, partial completion',\n",
       " 'scrapping of element 5 failed, partial completion',\n",
       " 'scrapping of element 5 failed, partial completion',\n",
       " 'scrapping of element 6 failed twice but was completed',\n",
       " 'scrapping of element 6 completely succesful',\n",
       " 'scrapping of element 6 completely succesful',\n",
       " 'scrapping of element 6 completely succesful',\n",
       " 'scrapping of element 6 completely succesful',\n",
       " 'scrapping of element 6 completely succesful',\n",
       " 'scrapping of element 6 completely succesful',\n",
       " 'scrapping of element 6 completely succesful',\n",
       " 'scrapping of element 6 completely succesful',\n",
       " 'scrapping of element 6 completely succesful',\n",
       " 'scrapping of element 6 completely succesful',\n",
       " 'scrapping of element 6 completely succesful',\n",
       " 'scrapping of element 6 failed, partial completion',\n",
       " 'scrapping of element 6 failed, partial completion',\n",
       " 'scrapping of element 6 failed, partial completion',\n",
       " 'scrapping of element 7 completely succesful',\n",
       " 'scrapping of element 7 completely succesful',\n",
       " 'scrapping of element 7 completely succesful',\n",
       " 'scrapping of element 7 completely succesful',\n",
       " 'scrapping of element 7 completely succesful',\n",
       " 'scrapping of element 7 completely succesful',\n",
       " 'scrapping of element 7 completely succesful',\n",
       " 'scrapping of element 7 failed, partial completion',\n",
       " 'scrapping of element 7 failed, partial completion',\n",
       " 'scrapping of element 7 failed, partial completion',\n",
       " 'scrapping of element 7 failed, partial completion',\n",
       " 'scrapping of element 7 failed, partial completion',\n",
       " 'scrapping of element 7 failed, partial completion',\n",
       " 'scrapping of element 7 failed, partial completion',\n",
       " 'scrapping of element 7 failed, partial completion',\n",
       " 'scrapping of element 8 completely succesful',\n",
       " 'scrapping of element 8 completely succesful',\n",
       " 'scrapping of element 8 completely succesful',\n",
       " 'scrapping of element 8 completely succesful',\n",
       " 'scrapping of element 8 completely succesful',\n",
       " 'scrapping of element 8 completely succesful',\n",
       " 'scrapping of element 8 completely succesful',\n",
       " 'scrapping of element 8 completely succesful',\n",
       " 'scrapping of element 8 completely succesful',\n",
       " 'scrapping of element 8 completely succesful',\n",
       " 'scrapping of element 8 completely succesful',\n",
       " 'scrapping of element 8 failed, partial completion',\n",
       " 'scrapping of element 8 failed, partial completion',\n",
       " 'scrapping of element 8 failed, partial completion',\n",
       " 'scrapping of element 8 failed, partial completion',\n",
       " 'scrapping of element 9 completely succesful',\n",
       " 'scrapping of element 9 completely succesful',\n",
       " 'scrapping of element 9 completely succesful',\n",
       " 'scrapping of element 9 completely succesful',\n",
       " 'scrapping of element 9 completely succesful',\n",
       " 'scrapping of element 9 completely succesful',\n",
       " 'scrapping of element 9 completely succesful',\n",
       " 'scrapping of element 9 completely succesful',\n",
       " 'scrapping of element 9 completely succesful',\n",
       " 'scrapping of element 9 completely succesful',\n",
       " 'scrapping of element 9 completely succesful',\n",
       " 'scrapping of element 9 completely succesful',\n",
       " 'scrapping of element 9 completely succesful',\n",
       " 'scrapping of element 9 completely succesful',\n",
       " 'scrapping of element 9 failed, partial completion',\n",
       " 'scrapping of element 10 completely succesful',\n",
       " 'scrapping of element 10 completely succesful',\n",
       " 'scrapping of element 10 completely succesful',\n",
       " 'scrapping of element 10 failed, partial completion',\n",
       " 'scrapping of element 10 failed, partial completion',\n",
       " 'scrapping of element 10 failed, partial completion',\n",
       " 'scrapping of element 10 failed, partial completion',\n",
       " 'scrapping of element 10 failed, partial completion',\n",
       " 'scrapping of element 10 failed, partial completion',\n",
       " 'scrapping of element 10 failed, partial completion',\n",
       " 'scrapping of element 10 failed, partial completion',\n",
       " 'scrapping of element 10 failed, partial completion',\n",
       " 'scrapping of element 10 failed, partial completion',\n",
       " 'scrapping of element 10 failed, partial completion',\n",
       " 'scrapping of element 10 failed, partial completion']"
      ]
     },
     "execution_count": 15,
     "metadata": {},
     "output_type": "execute_result"
    }
   ],
   "source": [
    "report\n"
   ]
  },
  {
   "cell_type": "code",
   "execution_count": 9,
   "id": "0820ee39",
   "metadata": {},
   "outputs": [],
   "source": [
    "square_1_A = data"
   ]
  },
  {
   "cell_type": "code",
   "execution_count": 10,
   "id": "edcffa60",
   "metadata": {},
   "outputs": [],
   "source": [
    "import pandas as pd"
   ]
  },
  {
   "cell_type": "code",
   "execution_count": 11,
   "id": "0e53068c",
   "metadata": {},
   "outputs": [],
   "source": [
    "dfA = pd.DataFrame(square_1_A)"
   ]
  },
  {
   "cell_type": "code",
   "execution_count": 12,
   "id": "72cf68b7",
   "metadata": {},
   "outputs": [],
   "source": [
    "dfA.T.to_csv('Scrapnight1_10_20.csv')"
   ]
  },
  {
   "cell_type": "code",
   "execution_count": 20,
   "id": "d26ba248",
   "metadata": {},
   "outputs": [
    {
     "data": {
      "text/html": [
       "<div>\n",
       "<style scoped>\n",
       "    .dataframe tbody tr th:only-of-type {\n",
       "        vertical-align: middle;\n",
       "    }\n",
       "\n",
       "    .dataframe tbody tr th {\n",
       "        vertical-align: top;\n",
       "    }\n",
       "\n",
       "    .dataframe thead th {\n",
       "        text-align: right;\n",
       "    }\n",
       "</style>\n",
       "<table border=\"1\" class=\"dataframe\">\n",
       "  <thead>\n",
       "    <tr style=\"text-align: right;\">\n",
       "      <th></th>\n",
       "      <th>0</th>\n",
       "      <th>1</th>\n",
       "      <th>2</th>\n",
       "      <th>3</th>\n",
       "      <th>4</th>\n",
       "    </tr>\n",
       "  </thead>\n",
       "  <tbody>\n",
       "    <tr>\n",
       "      <th>21223558</th>\n",
       "      <td>Dream House Desire - Island Village Tenerife Sur</td>\n",
       "      <td>https://www.airbnb.es/rooms/21223558?adults=2&amp;...</td>\n",
       "      <td>6 huéspedes · 2 dormitorios · 4 camas · 2 baños</td>\n",
       "      <td>[28.0809,-16.7262]</td>\n",
       "      <td>216€</td>\n",
       "    </tr>\n",
       "    <tr>\n",
       "      <th>23388833</th>\n",
       "      <td>Sun&amp;Sea - Tenerife Sur será nuevo !!!</td>\n",
       "      <td>https://www.airbnb.es/rooms/23388833?adults=2&amp;...</td>\n",
       "      <td>8 huéspedes · 4 dormitorios · 9 camas · 3 baños</td>\n",
       "      <td>[28.08179,-16.72578]</td>\n",
       "      <td>325€</td>\n",
       "    </tr>\n",
       "    <tr>\n",
       "      <th>39792629</th>\n",
       "      <td>hermoso departamento en costa adeje</td>\n",
       "      <td>https://www.airbnb.es/rooms/39792629?adults=2&amp;...</td>\n",
       "      <td>4 huéspedes · 1 dormitorio · 1 cama · 1 baño</td>\n",
       "      <td>[28.08255,-16.72541]</td>\n",
       "      <td>110€</td>\n",
       "    </tr>\n",
       "    <tr>\n",
       "      <th>41727427</th>\n",
       "      <td>Apartamentos Las Brisas Costa Adeje</td>\n",
       "      <td>https://www.airbnb.es/rooms/41727427?adults=2&amp;...</td>\n",
       "      <td>3 huéspedes · 1 dormitorio · 2 camas · 1 baño</td>\n",
       "      <td>[28.08155,-16.72598]</td>\n",
       "      <td>49€</td>\n",
       "    </tr>\n",
       "    <tr>\n",
       "      <th>38123338</th>\n",
       "      <td>Villa con Piscina vistas panorámicas Jardin</td>\n",
       "      <td>https://www.airbnb.es/rooms/38123338?adults=2&amp;...</td>\n",
       "      <td>6 huéspedes · 3 dormitorios · 4 camas · 3 baños</td>\n",
       "      <td>[28.08001,-16.72565]</td>\n",
       "      <td>300€</td>\n",
       "    </tr>\n",
       "  </tbody>\n",
       "</table>\n",
       "</div>"
      ],
      "text/plain": [
       "                                                         0  \\\n",
       "21223558  Dream House Desire - Island Village Tenerife Sur   \n",
       "23388833             Sun&Sea - Tenerife Sur será nuevo !!!   \n",
       "39792629               hermoso departamento en costa adeje   \n",
       "41727427               Apartamentos Las Brisas Costa Adeje   \n",
       "38123338       Villa con Piscina vistas panorámicas Jardin   \n",
       "\n",
       "                                                          1  \\\n",
       "21223558  https://www.airbnb.es/rooms/21223558?adults=2&...   \n",
       "23388833  https://www.airbnb.es/rooms/23388833?adults=2&...   \n",
       "39792629  https://www.airbnb.es/rooms/39792629?adults=2&...   \n",
       "41727427  https://www.airbnb.es/rooms/41727427?adults=2&...   \n",
       "38123338  https://www.airbnb.es/rooms/38123338?adults=2&...   \n",
       "\n",
       "                                                        2  \\\n",
       "21223558  6 huéspedes · 2 dormitorios · 4 camas · 2 baños   \n",
       "23388833  8 huéspedes · 4 dormitorios · 9 camas · 3 baños   \n",
       "39792629     4 huéspedes · 1 dormitorio · 1 cama · 1 baño   \n",
       "41727427    3 huéspedes · 1 dormitorio · 2 camas · 1 baño   \n",
       "38123338  6 huéspedes · 3 dormitorios · 4 camas · 3 baños   \n",
       "\n",
       "                             3     4  \n",
       "21223558    [28.0809,-16.7262]  216€  \n",
       "23388833  [28.08179,-16.72578]  325€  \n",
       "39792629  [28.08255,-16.72541]  110€  \n",
       "41727427  [28.08155,-16.72598]   49€  \n",
       "38123338  [28.08001,-16.72565]  300€  "
      ]
     },
     "execution_count": 20,
     "metadata": {},
     "output_type": "execute_result"
    }
   ],
   "source": [
    "dfA.T.tail()"
   ]
  },
  {
   "cell_type": "code",
   "execution_count": 14,
   "id": "14b4f4b6",
   "metadata": {
    "scrolled": true
   },
   "outputs": [
    {
     "name": "stdout",
     "output_type": "stream",
     "text": [
      "[]                      121\n",
      "[28.0827,-16.7315]        9\n",
      "[28.0551,-16.7333]        8\n",
      "[28.0814,-16.7324]        7\n",
      "[28.0588,-16.7339]        6\n",
      "                       ... \n",
      "[28.05964,-16.73506]      1\n",
      "[28.05954,-16.73448]      1\n",
      "[28.05977,-16.73393]      1\n",
      "[28.05901,-16.73279]      1\n",
      "[28.08001,-16.72565]      1\n",
      "Name: 3, Length: 1479, dtype: int64\n"
     ]
    }
   ],
   "source": [
    "print(dfA.T[3].value_counts())"
   ]
  },
  {
   "cell_type": "code",
   "execution_count": 17,
   "id": "95a5affe",
   "metadata": {},
   "outputs": [
    {
     "data": {
      "text/plain": [
       "(1699, 5)"
      ]
     },
     "execution_count": 17,
     "metadata": {},
     "output_type": "execute_result"
    }
   ],
   "source": [
    "dfA.T.shape"
   ]
  },
  {
   "cell_type": "code",
   "execution_count": null,
   "id": "3884f32a",
   "metadata": {},
   "outputs": [],
   "source": []
  }
 ],
 "metadata": {
  "kernelspec": {
   "display_name": "Python 3 (ipykernel)",
   "language": "python",
   "name": "python3"
  },
  "language_info": {
   "codemirror_mode": {
    "name": "ipython",
    "version": 3
   },
   "file_extension": ".py",
   "mimetype": "text/x-python",
   "name": "python",
   "nbconvert_exporter": "python",
   "pygments_lexer": "ipython3",
   "version": "3.9.7"
  }
 },
 "nbformat": 4,
 "nbformat_minor": 5
}
