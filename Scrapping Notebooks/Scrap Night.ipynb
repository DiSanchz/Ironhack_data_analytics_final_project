{
 "cells": [
  {
   "cell_type": "markdown",
   "id": "d7811972",
   "metadata": {},
   "source": [
    "### Importing libraries and setting up the scrapping tools"
   ]
  },
  {
   "cell_type": "code",
   "execution_count": 15,
   "id": "d69ef797",
   "metadata": {},
   "outputs": [],
   "source": [
    "import requests as req\n",
    "from bs4 import BeautifulSoup as bs\n",
    "import pandas as pd\n",
    "import json\n",
    "import time \n",
    "from selenium import webdriver\n",
    "from selenium.webdriver.chrome.options import Options\n",
    "from webdriver_manager.chrome import ChromeDriverManager\n",
    "from selenium.webdriver.common.action_chains import ActionChains\n",
    "import time\n",
    "import re\n",
    "import warnings  \n",
    "warnings.simplefilter('ignore')\n",
    "\n",
    "opciones=Options()\n",
    "\n",
    "opciones.add_experimental_option('excludeSwitches', ['enable-automation'])\n",
    "opciones.add_experimental_option('useAutomationExtension', False)\n",
    "opciones.headless=False   \n",
    "opciones.add_argument('--start-maximized')         \n",
    "#opciones.add_argument('user-data-dir=selenium')   \n",
    "#opciones.add_extension('driver_folder/adblock.crx')       \n",
    "opciones.add_argument('--incognito')\n",
    "\n",
    "#driver = \"./chromedriver.exe\"\n",
    "#driver = webdriver.Chrome(driver,options = opciones)"
   ]
  },
  {
   "cell_type": "code",
   "execution_count": 16,
   "id": "19e2027d",
   "metadata": {},
   "outputs": [],
   "source": [
    "#driver = \"./chromedriver.exe\"\n",
    "#driver = webdriver.Chrome(driver,options = opciones)"
   ]
  },
  {
   "cell_type": "markdown",
   "id": "7a790a44",
   "metadata": {},
   "source": [
    "### Loading URLs"
   ]
  },
  {
   "cell_type": "code",
   "execution_count": 17,
   "id": "441c9c07",
   "metadata": {
    "scrolled": true
   },
   "outputs": [],
   "source": [
    "links = []"
   ]
  },
  {
   "cell_type": "code",
   "execution_count": 18,
   "id": "e10b8a68",
   "metadata": {},
   "outputs": [],
   "source": [
    "#n = 14 # si hay 15 pags\n",
    "\n",
    "\n",
    "def damelinks(b,m,n):\n",
    "    #b= link pag 1, m = string ready  , n=numero de pags a parte de de la 1\n",
    "    j = []\n",
    "    j.append(b)\n",
    "    if n != 0:\n",
    "        for p in range (20,((20*n)+1),20):\n",
    "            j.append(m + str(p) + '&section_offset=3')\n",
    "    if n == 0:\n",
    "        pass\n",
    "        \n",
    "    links.append(j)"
   ]
  },
  {
   "cell_type": "code",
   "execution_count": 19,
   "id": "2232ebe0",
   "metadata": {},
   "outputs": [],
   "source": [
    "# links aquí\n",
    "\n",
    "#32\n",
    "#damelinks('https://www.airbnb.es/s/Tenerife/homes?tab_id=home_tab&refinement_paths%5B%5D=%2Fhomes&flexible_trip_dates%5B%5D=may&date_picker_type=flexible_dates&flexible_trip_lengths%5B%5D=one_week&adults=2&source=structured_search_input_header&search_type=user_map_move&query=Tenerife%2C%20Canary%20Islands%2C%20Spain&ne_lat=28.236238771547708&ne_lng=-16.829134936079015&sw_lat=28.21033673313814&sw_lng=-16.873037333234777&zoom=15&search_by_map=true','https://www.airbnb.es/s/Tenerife/homes?tab_id=home_tab&refinement_paths%5B%5D=%2Fhomes&flexible_trip_dates%5B%5D=may&date_picker_type=flexible_dates&flexible_trip_lengths%5B%5D=one_week&adults=2&source=structured_search_input_header&search_type=user_map_move&query=Tenerife%2C%20Canary%20Islands%2C%20Spain&ne_lat=28.236238771547708&ne_lng=-16.829134936079015&sw_lat=28.21033673313814&sw_lng=-16.873037333234777&zoom=15&search_by_map=true&federated_search_session_id=738a7fb8-76b5-4fe8-b700-82abf0c6a498&pagination_search=true&items_offset=',14)\n",
    "#33\n",
    "#damelinks('https://www.airbnb.es/s/Tenerife/homes?tab_id=home_tab&refinement_paths%5B%5D=%2Fhomes&flexible_trip_dates%5B%5D=may&date_picker_type=flexible_dates&flexible_trip_lengths%5B%5D=one_week&adults=2&source=structured_search_input_header&search_type=user_map_move&query=Tenerife%2C%20Canary%20Islands%2C%20Spain&ne_lat=28.242042853019992&ne_lng=-16.836107795033683&sw_lat=28.23556828487494&sw_lng=-16.847083394322624&zoom=17&search_by_map=true','https://www.airbnb.es/s/Tenerife/homes?tab_id=home_tab&refinement_paths%5B%5D=%2Fhomes&flexible_trip_dates%5B%5D=may&date_picker_type=flexible_dates&flexible_trip_lengths%5B%5D=one_week&adults=2&source=structured_search_input_header&search_type=user_map_move&query=Tenerife%2C%20Canary%20Islands%2C%20Spain&ne_lat=28.242042853019992&ne_lng=-16.836107795033683&sw_lat=28.23556828487494&sw_lng=-16.847083394322624&zoom=17&search_by_map=true&federated_search_session_id=146430ac-084b-4d42-8ddf-18eb8a6c4362&pagination_search=true&items_offset=',9)\n",
    "#34\n",
    "#damelinks('https://www.airbnb.es/s/Tenerife/homes?tab_id=home_tab&refinement_paths%5B%5D=%2Fhomes&flexible_trip_dates%5B%5D=may&date_picker_type=flexible_dates&flexible_trip_lengths%5B%5D=one_week&adults=2&source=structured_search_input_header&search_type=user_map_move&query=Tenerife%2C%20Canary%20Islands%2C%20Spain&ne_lat=28.254357625632053&ne_lng=-16.830260579381218&sw_lat=28.241409591429555&sw_lng=-16.8522117779591&zoom=16&search_by_map=true','https://www.airbnb.es/s/Tenerife/homes?tab_id=home_tab&refinement_paths%5B%5D=%2Fhomes&flexible_trip_dates%5B%5D=may&date_picker_type=flexible_dates&flexible_trip_lengths%5B%5D=one_week&adults=2&source=structured_search_input_header&search_type=user_map_move&query=Tenerife%2C%20Canary%20Islands%2C%20Spain&ne_lat=28.254357625632053&ne_lng=-16.830260579381218&sw_lat=28.241409591429555&sw_lng=-16.8522117779591&zoom=16&search_by_map=true&federated_search_session_id=9560ba5d-b693-40bb-a395-111a3630f719&pagination_search=true&items_offset=',7)\n",
    "#35\n",
    "#damelinks('https://www.airbnb.es/s/Tenerife/homes?tab_id=home_tab&refinement_paths%5B%5D=%2Fhomes&flexible_trip_dates%5B%5D=may&date_picker_type=flexible_dates&flexible_trip_lengths%5B%5D=one_week&adults=2&source=structured_search_input_header&search_type=user_map_move&query=Tenerife%2C%20Canary%20Islands%2C%20Spain&ne_lat=28.303127719306115&ne_lng=-16.80191093472817&sw_lat=28.290185611614316&sw_lng=-16.82386213330605&zoom=16&search_by_map=true','x',0)\n",
    "#36\n",
    "#damelinks('https://www.airbnb.es/s/Tenerife/homes?tab_id=home_tab&refinement_paths%5B%5D=%2Fhomes&flexible_trip_dates%5B%5D=may&date_picker_type=flexible_dates&flexible_trip_lengths%5B%5D=one_week&adults=2&source=structured_search_input_header&search_type=user_map_move&query=Tenerife%2C%20Canary%20Islands%2C%20Spain&ne_lat=28.085087812465485&ne_lng=-16.599944112701053&sw_lat=28.03320429653531&sw_lng=-16.687748907012576&zoom=14&search_by_map=true','https://www.airbnb.es/s/Tenerife/homes?tab_id=home_tab&refinement_paths%5B%5D=%2Fhomes&flexible_trip_dates%5B%5D=may&date_picker_type=flexible_dates&flexible_trip_lengths%5B%5D=one_week&adults=2&source=structured_search_input_header&search_type=user_map_move&query=Tenerife%2C%20Canary%20Islands%2C%20Spain&ne_lat=28.085087812465485&ne_lng=-16.599944112701053&sw_lat=28.03320429653531&sw_lng=-16.687748907012576&zoom=14&search_by_map=true&federated_search_session_id=98486487-de66-422f-9ca9-4437412329c9&pagination_search=true&items_offset=',9)\n",
    "#37\n",
    "#damelinks('https://www.airbnb.es/s/Tenerife/homes?tab_id=home_tab&refinement_paths%5B%5D=%2Fhomes&flexible_trip_dates%5B%5D=may&date_picker_type=flexible_dates&flexible_trip_lengths%5B%5D=one_week&adults=2&source=structured_search_input_header&search_type=user_map_move&query=Tenerife%2C%20Canary%20Islands%2C%20Spain&ne_lat=28.029253163411575&ne_lng=-16.645368800167148&sw_lat=28.003301065613293&sw_lng=-16.68927119732291&zoom=15&search_by_map=true','https://www.airbnb.es/s/Tenerife/homes?tab_id=home_tab&refinement_paths%5B%5D=%2Fhomes&flexible_trip_dates%5B%5D=may&date_picker_type=flexible_dates&flexible_trip_lengths%5B%5D=one_week&adults=2&source=structured_search_input_header&search_type=user_map_move&query=Tenerife%2C%20Canary%20Islands%2C%20Spain&ne_lat=28.029253163411575&ne_lng=-16.645368800167148&sw_lat=28.003301065613293&sw_lng=-16.68927119732291&zoom=15&search_by_map=true&federated_search_session_id=1975fd78-2a72-42f9-ad79-8ccb3d8c68c6&pagination_search=true&items_offset=',14)\n",
    "#38\n",
    "#damelinks('https://www.airbnb.es/s/Tenerife/homes?tab_id=home_tab&refinement_paths%5B%5D=%2Fhomes&flexible_trip_dates%5B%5D=may&date_picker_type=flexible_dates&flexible_trip_lengths%5B%5D=one_week&adults=2&source=structured_search_input_header&search_type=user_map_move&query=Tenerife%2C%20Canary%20Islands%2C%20Spain&ne_lat=28.047649002863203&ne_lng=-16.643073255690467&sw_lat=28.021701340383046&sw_lng=-16.68697565284623&zoom=15&search_by_map=true','https://www.airbnb.es/s/Tenerife/homes?tab_id=home_tab&refinement_paths%5B%5D=%2Fhomes&flexible_trip_dates%5B%5D=may&date_picker_type=flexible_dates&flexible_trip_lengths%5B%5D=one_week&adults=2&source=structured_search_input_header&search_type=user_map_move&query=Tenerife%2C%20Canary%20Islands%2C%20Spain&ne_lat=28.047649002863203&ne_lng=-16.643073255690467&sw_lat=28.021701340383046&sw_lng=-16.68697565284623&zoom=15&search_by_map=true&federated_search_session_id=5c6ff8d2-100d-44fe-be18-b513c0632da0&pagination_search=true&items_offset=',1)\n",
    "#39\n",
    "damelinks('https://www.airbnb.es/s/Tenerife/homes?tab_id=home_tab&refinement_paths%5B%5D=%2Fhomes&flexible_trip_dates%5B%5D=may&date_picker_type=flexible_dates&flexible_trip_lengths%5B%5D=one_week&adults=2&source=structured_search_input_header&search_type=user_map_move&query=Tenerife%2C%20Canary%20Islands%2C%20Spain&ne_lat=28.01422726256964&ne_lng=-16.62350006197451&sw_lat=28.00125018479693&sw_lng=-16.64545126055239&zoom=16&search_by_map=true','https://www.airbnb.es/s/Tenerife/homes?tab_id=home_tab&refinement_paths%5B%5D=%2Fhomes&flexible_trip_dates%5B%5D=may&date_picker_type=flexible_dates&flexible_trip_lengths%5B%5D=one_week&adults=2&source=structured_search_input_header&search_type=user_map_move&query=Tenerife%2C%20Canary%20Islands%2C%20Spain&ne_lat=28.01422726256964&ne_lng=-16.62350006197451&sw_lat=28.00125018479693&sw_lng=-16.64545126055239&zoom=16&search_by_map=true&federated_search_session_id=c0a5772e-f491-4780-ba22-e49294949d3a&pagination_search=true&items_offset=',12)\n",
    "#40\n",
    "damelinks('https://www.airbnb.es/s/Tenerife/homes?tab_id=home_tab&refinement_paths%5B%5D=%2Fhomes&flexible_trip_dates%5B%5D=may&date_picker_type=flexible_dates&flexible_trip_lengths%5B%5D=one_week&adults=2&source=structured_search_input_header&search_type=user_map_move&query=Tenerife%2C%20Canary%20Islands%2C%20Spain&ne_lat=28.034675201140328&ne_lng=-16.509840251073285&sw_lat=27.98276736612947&sw_lng=-16.59764504538481&zoom=14&search_by_map=true','https://www.airbnb.es/s/Tenerife/homes?tab_id=home_tab&refinement_paths%5B%5D=%2Fhomes&flexible_trip_dates%5B%5D=may&date_picker_type=flexible_dates&flexible_trip_lengths%5B%5D=one_week&adults=2&source=structured_search_input_header&search_type=user_map_move&query=Tenerife%2C%20Canary%20Islands%2C%20Spain&ne_lat=28.034675201140328&ne_lng=-16.509840251073285&sw_lat=27.98276736612947&sw_lng=-16.59764504538481&zoom=14&search_by_map=true&federated_search_session_id=7364249c-586c-4e14-8988-f6eb9fdd04b1&pagination_search=true&items_offset=',10)\n",
    "#41\n",
    "damelinks('https://www.airbnb.es/s/Tenerife/homes?tab_id=home_tab&refinement_paths%5B%5D=%2Fhomes&flexible_trip_dates%5B%5D=may&date_picker_type=flexible_dates&flexible_trip_lengths%5B%5D=one_week&adults=2&source=structured_search_input_header&search_type=user_map_move&query=Tenerife%2C%20Canary%20Islands%2C%20Spain&ne_lat=28.12055107923037&ne_lng=-16.53955944083944&sw_lat=28.06868469489067&sw_lng=-16.627364235150964&zoom=14&search_by_map=true',' https://www.airbnb.es/s/Tenerife/homes?tab_id=home_tab&refinement_paths%5B%5D=%2Fhomes&flexible_trip_dates%5B%5D=may&date_picker_type=flexible_dates&flexible_trip_lengths%5B%5D=one_week&adults=2&source=structured_search_input_header&search_type=user_map_move&query=Tenerife%2C%20Canary%20Islands%2C%20Spain&ne_lat=28.12055107923037&ne_lng=-16.53955944083944&sw_lat=28.06868469489067&sw_lng=-16.627364235150964&zoom=14&search_by_map=true&federated_search_session_id=d9cd19b4-0d29-4d0b-809a-f78e0a728b86&pagination_search=true&items_offset=',7)\n",
    "#42\n",
    "damelinks('https://www.airbnb.es/s/Tenerife/homes?tab_id=home_tab&refinement_paths%5B%5D=%2Fhomes&flexible_trip_dates%5B%5D=may&date_picker_type=flexible_dates&flexible_trip_lengths%5B%5D=one_week&adults=2&source=structured_search_input_header&search_type=user_map_move&query=Tenerife%2C%20Canary%20Islands%2C%20Spain&ne_lat=28.17904090722054&ne_lng=-16.35306022249341&sw_lat=28.075339652777163&sw_lng=-16.52866981111646&zoom=13&search_by_map=true','https://www.airbnb.es/s/Tenerife/homes?tab_id=home_tab&refinement_paths%5B%5D=%2Fhomes&flexible_trip_dates%5B%5D=may&date_picker_type=flexible_dates&flexible_trip_lengths%5B%5D=one_week&adults=2&source=structured_search_input_header&search_type=user_map_move&query=Tenerife%2C%20Canary%20Islands%2C%20Spain&ne_lat=28.17904090722054&ne_lng=-16.35306022249341&sw_lat=28.075339652777163&sw_lng=-16.52866981111646&zoom=13&search_by_map=true&federated_search_session_id=9b4bcd94-89e9-4a63-bd0f-5be3d0fabe1d&pagination_search=true&items_offset=',14)\n",
    "#43\n",
    "damelinks('https://www.airbnb.es/s/Tenerife/homes?tab_id=home_tab&refinement_paths%5B%5D=%2Fhomes&flexible_trip_dates%5B%5D=may&date_picker_type=flexible_dates&flexible_trip_lengths%5B%5D=one_week&adults=2&source=structured_search_input_header&search_type=user_map_move&query=Tenerife%2C%20Canary%20Islands%2C%20Spain&ne_lat=28.619126476613104&ne_lng=-16.27112533002753&sw_lat=28.51585427738911&sw_lng=-16.446734918650577&zoom=13&search_by_map=true','https://www.airbnb.es/s/Tenerife/homes?tab_id=home_tab&refinement_paths%5B%5D=%2Fhomes&flexible_trip_dates%5B%5D=may&date_picker_type=flexible_dates&flexible_trip_lengths%5B%5D=one_week&adults=2&source=structured_search_input_header&search_type=user_map_move&query=Tenerife%2C%20Canary%20Islands%2C%20Spain&ne_lat=28.619126476613104&ne_lng=-16.27112533002753&sw_lat=28.51585427738911&sw_lng=-16.446734918650577&zoom=13&search_by_map=true&federated_search_session_id=771e6031-332f-4625-9c33-8b1846457711&pagination_search=true&items_offset=',13)\n",
    "#44\n",
    "damelinks('https://www.airbnb.es/s/Tenerife/homes?tab_id=home_tab&refinement_paths%5B%5D=%2Fhomes&flexible_trip_dates%5B%5D=may&date_picker_type=flexible_dates&flexible_trip_lengths%5B%5D=one_week&adults=2&source=structured_search_input_header&search_type=user_map_move&query=Tenerife%2C%20Canary%20Islands%2C%20Spain&ne_lat=28.134435345831616&ne_lng=-16.539252205938055&sw_lat=28.108508644003347&sw_lng=-16.583154603093817&zoom=15&search_by_map=true','https://www.airbnb.es/s/Tenerife/homes?tab_id=home_tab&refinement_paths%5B%5D=%2Fhomes&flexible_trip_dates%5B%5D=may&date_picker_type=flexible_dates&flexible_trip_lengths%5B%5D=one_week&adults=2&source=structured_search_input_header&search_type=user_map_move&query=Tenerife%2C%20Canary%20Islands%2C%20Spain&ne_lat=28.134435345831616&ne_lng=-16.539252205938055&sw_lat=28.108508644003347&sw_lng=-16.583154603093817&zoom=15&search_by_map=true&federated_search_session_id=ad0e5a68-b48c-4c2a-abc7-0461cfbc67b0&pagination_search=true&items_offset=',2)\n",
    "#45\n",
    "damelinks('https://www.airbnb.es/s/Tenerife/homes?tab_id=home_tab&refinement_paths%5B%5D=%2Fhomes&flexible_trip_dates%5B%5D=may&date_picker_type=flexible_dates&flexible_trip_lengths%5B%5D=one_week&adults=2&source=structured_search_input_header&search_type=user_map_move&query=Tenerife%2C%20Canary%20Islands%2C%20Spain&ne_lat=28.026083409752303&ne_lng=-16.58933163737416&sw_lat=28.00013054798265&sw_lng=-16.63323403452992&zoom=15&search_by_map=true','https://www.airbnb.es/s/Tenerife/homes?tab_id=home_tab&refinement_paths%5B%5D=%2Fhomes&flexible_trip_dates%5B%5D=may&date_picker_type=flexible_dates&flexible_trip_lengths%5B%5D=one_week&adults=2&source=structured_search_input_header&search_type=user_map_move&query=Tenerife%2C%20Canary%20Islands%2C%20Spain&ne_lat=28.026083409752303&ne_lng=-16.58933163737416&sw_lat=28.00013054798265&sw_lng=-16.63323403452992&zoom=15&search_by_map=true&federated_search_session_id=78e1b82c-def1-4143-9e57-f79102bcec58&pagination_search=true&items_offset=',6)\n",
    "#46\n",
    "damelinks('https://www.airbnb.es/s/Tenerife/homes?tab_id=home_tab&refinement_paths%5B%5D=%2Fhomes&flexible_trip_dates%5B%5D=may&date_picker_type=flexible_dates&flexible_trip_lengths%5B%5D=one_week&adults=2&source=structured_search_input_header&search_type=user_map_move&query=Tenerife%2C%20Canary%20Islands%2C%20Spain&ne_lat=28.03944497752963&ne_lng=-16.597323129231256&sw_lat=28.026470939113693&sw_lng=-16.619274327809137&zoom=16&search_by_map=true','https://www.airbnb.es/s/Tenerife/homes?tab_id=home_tab&refinement_paths%5B%5D=%2Fhomes&flexible_trip_dates%5B%5D=may&date_picker_type=flexible_dates&flexible_trip_lengths%5B%5D=one_week&adults=2&source=structured_search_input_header&search_type=user_map_move&query=Tenerife%2C%20Canary%20Islands%2C%20Spain&ne_lat=28.03944497752963&ne_lng=-16.597323129231256&sw_lat=28.026470939113693&sw_lng=-16.619274327809137&zoom=16&search_by_map=true&federated_search_session_id=aaf8ab26-4c04-4655-a0c4-6d044cbda3e7&pagination_search=true&items_offset=',9)\n",
    "#47\n",
    "damelinks('https://www.airbnb.es/s/Tenerife/homes?tab_id=home_tab&refinement_paths%5B%5D=%2Fhomes&flexible_trip_dates%5B%5D=may&date_picker_type=flexible_dates&flexible_trip_lengths%5B%5D=one_week&adults=2&source=structured_search_input_header&search_type=user_map_move&query=Tenerife%2C%20Canary%20Islands%2C%20Spain&ne_lat=28.059585921023974&ne_lng=-16.553287982732286&sw_lat=28.03364113801901&sw_lng=-16.597190379888048&zoom=15&search_by_map=true','https://www.airbnb.es/s/Tenerife/homes?tab_id=home_tab&refinement_paths%5B%5D=%2Fhomes&flexible_trip_dates%5B%5D=may&date_picker_type=flexible_dates&flexible_trip_lengths%5B%5D=one_week&adults=2&source=structured_search_input_header&search_type=user_map_move&query=Tenerife%2C%20Canary%20Islands%2C%20Spain&ne_lat=28.059585921023974&ne_lng=-16.553287982732286&sw_lat=28.03364113801901&sw_lng=-16.597190379888048&zoom=15&search_by_map=true&federated_search_session_id=e233f85e-4d6e-4d9d-9a01-6c25a1ffc421&pagination_search=true&items_offset=',7)\n",
    "#48\n",
    "damelinks('https://www.airbnb.es/s/Tenerife/homes?tab_id=home_tab&refinement_paths%5B%5D=%2Fhomes&flexible_trip_dates%5B%5D=may&date_picker_type=flexible_dates&flexible_trip_lengths%5B%5D=one_week&adults=2&source=structured_search_input_header&search_type=user_map_move&query=Tenerife%2C%20Canary%20Islands%2C%20Spain&ne_lat=28.079348348850573&ne_lng=-16.563548859211267&sw_lat=28.05340833550059&sw_lng=-16.60745125636703&zoom=15&search_by_map=true','x',0)\n",
    "#49\n",
    "damelinks('https://www.airbnb.es/s/Tenerife/homes?tab_id=home_tab&refinement_paths%5B%5D=%2Fhomes&flexible_trip_dates%5B%5D=may&date_picker_type=flexible_dates&flexible_trip_lengths%5B%5D=one_week&adults=2&source=structured_search_input_header&search_type=user_map_move&query=Tenerife%2C%20Canary%20Islands%2C%20Spain&ne_lat=28.046620589437506&ne_lng=-16.52251143476002&sw_lat=28.033647416319265&sw_lng=-16.5444626333379&zoom=16&search_by_map=true','https://www.airbnb.es/s/Tenerife/homes?tab_id=home_tab&refinement_paths%5B%5D=%2Fhomes&flexible_trip_dates%5B%5D=may&date_picker_type=flexible_dates&flexible_trip_lengths%5B%5D=one_week&adults=2&source=structured_search_input_header&search_type=user_map_move&query=Tenerife%2C%20Canary%20Islands%2C%20Spain&ne_lat=28.046620589437506&ne_lng=-16.52251143476002&sw_lat=28.033647416319265&sw_lng=-16.5444626333379&zoom=16&search_by_map=true&federated_search_session_id=78f360c0-4b36-4f64-8e6b-aa71e722be26&pagination_search=true&items_offset=',14)\n",
    "#50\n",
    "damelinks('https://www.airbnb.es/s/Tenerife/homes?tab_id=home_tab&refinement_paths%5B%5D=%2Fhomes&flexible_trip_dates%5B%5D=may&date_picker_type=flexible_dates&flexible_trip_lengths%5B%5D=one_week&adults=2&source=structured_search_input_header&search_type=user_map_move&query=Tenerife%2C%20Canary%20Islands%2C%20Spain&ne_lat=28.072150688988263&ne_lng=-16.5062676563266&sw_lat=28.04620893812813&sw_lng=-16.55017005348236&zoom=15&search_by_map=true','https://www.airbnb.es/s/Tenerife/homes?tab_id=home_tab&refinement_paths%5B%5D=%2Fhomes&flexible_trip_dates%5B%5D=may&date_picker_type=flexible_dates&flexible_trip_lengths%5B%5D=one_week&adults=2&source=structured_search_input_header&search_type=user_map_move&query=Tenerife%2C%20Canary%20Islands%2C%20Spain&ne_lat=28.072150688988263&ne_lng=-16.5062676563266&sw_lat=28.04620893812813&sw_lng=-16.55017005348236&zoom=15&search_by_map=true&federated_search_session_id=e2bf4477-9f0c-44a6-a2d8-bb854eb8a0e1&pagination_search=true&items_offset=',12)\n",
    "#51\n",
    "damelinks('https://www.airbnb.es/s/Tenerife/homes?tab_id=home_tab&refinement_paths%5B%5D=%2Fhomes&flexible_trip_dates%5B%5D=may&date_picker_type=flexible_dates&flexible_trip_lengths%5B%5D=one_week&adults=2&source=structured_search_input_header&search_type=user_map_move&query=Tenerife%2C%20Canary%20Islands%2C%20Spain&ne_lat=28.37979850643862&ne_lng=-16.726722273897963&sw_lat=28.353931386540744&sw_lng=-16.770624671053724&zoom=15&search_by_map=true','https://www.airbnb.es/s/Tenerife/homes?tab_id=home_tab&refinement_paths%5B%5D=%2Fhomes&flexible_trip_dates%5B%5D=may&date_picker_type=flexible_dates&flexible_trip_lengths%5B%5D=one_week&adults=2&source=structured_search_input_header&search_type=user_map_move&query=Tenerife%2C%20Canary%20Islands%2C%20Spain&ne_lat=28.37979850643862&ne_lng=-16.726722273897963&sw_lat=28.353931386540744&sw_lng=-16.770624671053724&zoom=15&search_by_map=true&federated_search_session_id=65043a55-6fa3-410f-afa3-270a7d77ea4f&pagination_search=true&items_offset=', 5)\n",
    "#52\n",
    "damelinks('https://www.airbnb.es/s/Tenerife/homes?tab_id=home_tab&refinement_paths%5B%5D=%2Fhomes&flexible_trip_dates%5B%5D=may&date_picker_type=flexible_dates&flexible_trip_lengths%5B%5D=one_week&adults=2&source=structured_search_input_header&search_type=user_map_move&query=Tenerife%2C%20Canary%20Islands%2C%20Spain&ne_lat=28.35936124552403&ne_lng=-16.593641791415052&sw_lat=28.255833105066246&sw_lng=-16.7692513800381&zoom=13&search_by_map=true','https://www.airbnb.es/s/Tenerife/homes?tab_id=home_tab&refinement_paths%5B%5D=%2Fhomes&flexible_trip_dates%5B%5D=may&date_picker_type=flexible_dates&flexible_trip_lengths%5B%5D=one_week&adults=2&source=structured_search_input_header&search_type=user_map_move&query=Tenerife%2C%20Canary%20Islands%2C%20Spain&ne_lat=28.35936124552403&ne_lng=-16.593641791415052&sw_lat=28.255833105066246&sw_lng=-16.7692513800381&zoom=13&search_by_map=true&federated_search_session_id=0a3b71e2-6f8c-49c3-a4e4-923c3989a9db&pagination_search=true&items_offset=',3)\n",
    "#53\n",
    "damelinks('https://www.airbnb.es/s/Tenerife/homes?tab_id=home_tab&refinement_paths%5B%5D=%2Fhomes&flexible_trip_dates%5B%5D=may&date_picker_type=flexible_dates&flexible_trip_lengths%5B%5D=one_week&adults=2&source=structured_search_input_header&search_type=user_map_move&query=Tenerife%2C%20Canary%20Islands%2C%20Spain&ne_lat=28.27377271381817&ne_lng=-16.38336017395457&sw_lat=28.170163300186925&sw_lng=-16.558969762577618&zoom=13&search_by_map=true','https://www.airbnb.es/s/Tenerife/homes?tab_id=home_tab&refinement_paths%5B%5D=%2Fhomes&flexible_trip_dates%5B%5D=may&date_picker_type=flexible_dates&flexible_trip_lengths%5B%5D=one_week&adults=2&source=structured_search_input_header&search_type=user_map_move&query=Tenerife%2C%20Canary%20Islands%2C%20Spain&ne_lat=28.27377271381817&ne_lng=-16.38336017395457&sw_lat=28.170163300186925&sw_lng=-16.558969762577618&zoom=13&search_by_map=true&federated_search_session_id=c851aa48-e09c-4de5-a18b-6051eb17f493&pagination_search=true&items_offset=',8)\n",
    "#54\n",
    "damelinks('https://www.airbnb.es/s/Tenerife/homes?tab_id=home_tab&refinement_paths%5B%5D=%2Fhomes&flexible_trip_dates%5B%5D=may&date_picker_type=flexible_dates&flexible_trip_lengths%5B%5D=one_week&adults=2&source=structured_search_input_header&search_type=user_map_move&query=Tenerife%2C%20Canary%20Islands%2C%20Spain&ne_lat=28.361852399359183&ne_lng=-16.345795972416056&sw_lat=28.258328631900863&sw_lng=-16.521405561039103&zoom=13&search_by_map=true','https://www.airbnb.es/s/Tenerife/homes?tab_id=home_tab&refinement_paths%5B%5D=%2Fhomes&flexible_trip_dates%5B%5D=may&date_picker_type=flexible_dates&flexible_trip_lengths%5B%5D=one_week&adults=2&source=structured_search_input_header&search_type=user_map_move&query=Tenerife%2C%20Canary%20Islands%2C%20Spain&ne_lat=28.361852399359183&ne_lng=-16.345795972416056&sw_lat=28.258328631900863&sw_lng=-16.521405561039103&zoom=13&search_by_map=true&federated_search_session_id=92e47aae-62ff-45ae-83b6-614787f6f40e&pagination_search=true&items_offset=',12)\n",
    "#55\n",
    "damelinks('https://www.airbnb.es/s/Tenerife/homes?tab_id=home_tab&refinement_paths%5B%5D=%2Fhomes&flexible_trip_dates%5B%5D=may&date_picker_type=flexible_dates&flexible_trip_lengths%5B%5D=one_week&adults=2&source=structured_search_input_header&search_type=user_map_move&query=Tenerife%2C%20Canary%20Islands%2C%20Spain&ne_lat=28.35635272375743&ne_lng=-16.49993157655922&sw_lat=28.304600755800653&sw_lng=-16.587736370870743&zoom=14&search_by_map=true','x',0)\n",
    "#56\n",
    "damelinks('https://www.airbnb.es/s/Tenerife/homes?tab_id=home_tab&refinement_paths%5B%5D=%2Fhomes&flexible_trip_dates%5B%5D=may&date_picker_type=flexible_dates&flexible_trip_lengths%5B%5D=one_week&adults=2&source=structured_search_input_header&search_type=user_map_move&query=Tenerife%2C%20Canary%20Islands%2C%20Spain&ne_lat=28.398576915779245&ne_lng=-16.51563859255043&sw_lat=28.34684552862878&sw_lng=-16.603443386861954&zoom=14&search_by_map=true','https://www.airbnb.es/s/Tenerife/homes?tab_id=home_tab&refinement_paths%5B%5D=%2Fhomes&flexible_trip_dates%5B%5D=may&date_picker_type=flexible_dates&flexible_trip_lengths%5B%5D=one_week&adults=2&source=structured_search_input_header&search_type=user_map_move&query=Tenerife%2C%20Canary%20Islands%2C%20Spain&ne_lat=28.398576915779245&ne_lng=-16.51563859255043&sw_lat=28.34684552862878&sw_lng=-16.603443386861954&zoom=14&search_by_map=true&federated_search_session_id=16938484-cf00-481f-b437-e7152b6c99bf&pagination_search=true&items_offset=',10)\n",
    "\n",
    "\n"
   ]
  },
  {
   "cell_type": "code",
   "execution_count": 20,
   "id": "af2a4b5e",
   "metadata": {},
   "outputs": [
    {
     "data": {
      "text/plain": [
       "20"
      ]
     },
     "execution_count": 20,
     "metadata": {},
     "output_type": "execute_result"
    }
   ],
   "source": [
    "len(links)"
   ]
  },
  {
   "cell_type": "markdown",
   "id": "30a0f794",
   "metadata": {},
   "source": [
    "### Initialize turbapushka"
   ]
  },
  {
   "cell_type": "code",
   "execution_count": 22,
   "id": "eff0ee5c",
   "metadata": {},
   "outputs": [],
   "source": [
    "def turbapushka(lugar):\n",
    "    driver = \"./chromedriver.exe\"\n",
    "    driver = webdriver.Chrome(driver,options = opciones)\n",
    "    driver.get(lugar)\n",
    "    time.sleep(2)\n",
    "    ###acccept cookies (extended)\n",
    "    try:\n",
    "        cookies = driver.find_element_by_xpath('/html/body/div[5]/div/div/div[1]/div/div[3]/section/div[2]/div[2]/button')\n",
    "        cookies.click()\n",
    "    except:\n",
    "        try:\n",
    "            cookies = driver.find_element_by_xpath('/html/body/div[5]/div/div/div[1]/div/div[2]/section/div[2]/div[2]/button')\n",
    "            cookies.click()\n",
    "        except:\n",
    "            try:\n",
    "                cookies = driver.find_element_by_xpath('/html/body/div[5]/div/div/div[1]/div/div[2]/section/div[2]/div[2]/button')\n",
    "            except:\n",
    "                pass\n",
    "    \n",
    "    ### Tab switching and URL getting/scrapping\n",
    "    \n",
    "    \n",
    "    scroll = 0\n",
    "    elemo = 1\n",
    "    \n",
    "    while scroll < 4850:\n",
    "        for i in range (1,21):\n",
    "            time.sleep(1)\n",
    "            driver.execute_script(f\"window.scrollTo(0, {scroll})\")\n",
    "            driver.switch_to.window(driver.window_handles[0])\n",
    "            try:\n",
    "                room = driver.find_element_by_xpath(f'//*[@id=\"site-content\"]/div[2]/div/div[4]/div/div/div/div/div/div/div[2]/div/div/div/div/div/div[{elemo}]/div/div/div[2]/div/div/div/div[1]/a')\n",
    "                room.click()\n",
    "            except:\n",
    "                try:\n",
    "                    room = driver.find_element_by_xpath(f'//*[@id=\"site-content\"]/div[2]/div/div[4]/div/div/div/div/div/div/div[2]/div/div/div/div/div/div[{elemo}]/div/div/div[2]/div/div/div/div[2]/a')\n",
    "                    room.click()\n",
    "                except:\n",
    "                    try:\n",
    "                        room = driver.find_element_by_xpath(f'//*[@id=\"site-content\"]/div[2]/div/div[5]/div/div/div/div/div/div/div[2]/div/div/div/div/div/div[{elemo}]/div/div/div[2]/div/div/div/div[2]/a')\n",
    "                        room.click()\n",
    "                    except:\n",
    "                        try:\n",
    "                            room = driver.find_element_by_xpath(f'//*[@id=\"site-content\"]/div[2]/div/div[5]/div/div/div/div/div/div/div[2]/div/div/div/div/div/div[{elemo}]/div/div/div[2]/div/div/div/div[1]/a')\n",
    "                            room.click()\n",
    "                        except:\n",
    "                            try:\n",
    "                                room = driver.find_element_by_xpath(f'//*[@id=\"site-content\"]/div[2]/div/div[3]/div/div/div/div/div/div/div[2]/div/div/div/div/div/div[{elemo}]/div/div/div[2]/div/div/div/div[2]/a')\n",
    "                                room.click()\n",
    "                            except:\n",
    "                                room = driver.find_element_by_xpath(f'//*[@id=\"site-content\"]/div[2]/div/div[3]/div/div/div/div/div/div/div[2]/div/div/div/div/div/div[{elemo}]/div/div/div[2]/div/div/div/div[1]/a')\n",
    "                                room.click()\n",
    "            scroll += 250\n",
    "            elemo += 1\n",
    "            driver.switch_to.window(driver.window_handles[i])\n",
    "            \n",
    "    #get title\n",
    "            time.sleep(1)\n",
    "            try:\n",
    "                time.sleep(1)\n",
    "                titulo = driver.find_element_by_xpath('//*[@id=\"site-content\"]/div/div[1]/div[1]/div[1]/div/div/div/div/section/div[1]/span/h1')\n",
    "            except:\n",
    "                try:\n",
    "                    titulo = driver.find_element_by_xpath('//*[@id=\"site-content\"]/div/div[1]/div[3]/div/div/div/div/section/div[1]/span/h1')\n",
    "                except:\n",
    "                    try:\n",
    "                        titulo = driver.find_element_by_xpath('//*[@id=\"site-content\"]/div/div[1]/div[3]/div/div/div/div/section/div[1]/span[2]/h1')\n",
    "                    except:\n",
    "                        titulo = driver.find_element_by_xpath('//*[@id=\"site-content\"]/div/div[1]/div[1]/div[1]/div/div/div/div/section/div[1]')\n",
    "            name = str(titulo.text)\n",
    "    #get url\n",
    "            time.sleep(2)\n",
    "            address = driver.current_url\n",
    "            identifier = address[28:36]\n",
    "            \n",
    "    #get price\n",
    "            time.sleep(2)\n",
    "            try:\n",
    "                precio = driver.find_element_by_xpath('//*[@id=\"site-content\"]/div/div[1]/div[3]/div/div[2]/div/div/div[1]/div/div/div/div/div/div/div[1]/div[1]/div[1]/div/div/div/span[1]')\n",
    "            except:\n",
    "                precio = driver.find_element_by_xpath('//*[@id=\"site-content\"]/div/div[1]/div[17]/div/div/div/div/div/div/div/div/div[1]/div[1]/div/div/div/span[1]')\n",
    "            night_cost = str(precio.text)\n",
    "            \n",
    "            \n",
    "    #get basic data\n",
    "            time.sleep(2)\n",
    "            try:\n",
    "                basic_data = driver.find_element_by_xpath('//*[@id=\"site-content\"]/div/div[1]/div[3]/div/div[1]/div/div[1]/div/div/section/div/div/div/div[1]/ol')\n",
    "            except: \n",
    "                basic_data = driver.find_element_by_xpath('//*[@id=\"site-content\"]/div/div[1]/div[5]/div/div/div/div[2]/section/div/div/ol')\n",
    "            basics = str(basic_data.text)\n",
    "            \n",
    "            \n",
    "    #get coordinates\n",
    "            driver.execute_script(\"window.scrollTo(0, 3500)\")\n",
    "            time.sleep(1)\n",
    "            elems = driver.find_elements_by_xpath(\"//a[@href]\")\n",
    "            links = []\n",
    "            for elem in elems:\n",
    "                if 'maps' in str(elem.get_attribute(\"href\")):\n",
    "                    links.append(str(elem.get_attribute(\"href\")))       \n",
    "            strmap = '-'.join(links)\n",
    "            coordinates = re.findall('\\d{2}\\.\\d{5}\\,\\-\\d{2}\\.\\d{5}|\\d{2}\\.\\d{4}\\,\\-\\d{2}\\.\\d{4}|\\d{2}\\.\\d{5}\\,\\-\\d{2}\\.\\d{3}', strmap)\n",
    "            \n",
    "            data[identifier] = [name, address, basics, coordinates, night_cost]\n",
    "            \n",
    "            \n",
    "            print('######')\n",
    "            print(identifier)\n",
    "            print(name)\n",
    "            print(address)\n",
    "            print(basics)\n",
    "            print(coordinates)\n",
    "            print(night_cost)\n",
    "            print('######')\n",
    "            "
   ]
  },
  {
   "cell_type": "markdown",
   "id": "24ece113",
   "metadata": {},
   "source": [
    "### Execution"
   ]
  },
  {
   "cell_type": "code",
   "execution_count": null,
   "id": "4eadcdea",
   "metadata": {
    "scrolled": true
   },
   "outputs": [],
   "source": [
    "# links = lista-de-listas\n",
    "# e = lista\n",
    "# k = link\n",
    "# i = \n",
    "\n",
    "date = {}\n",
    "report = []\n",
    "cuadrados = 0\n",
    "\n",
    "for e in links: \n",
    "    cuadrados += 1\n",
    "    counterstrike = 0\n",
    "    for k in e:\n",
    "        try:\n",
    "            turbapushka(k)\n",
    "            print('pag scrap')\n",
    "            print(str(counterstrike))\n",
    "            counterstrike +=1\n",
    "            report.append(f'scrapping of element {cuadrados} completely succesful')\n",
    "        except:\n",
    "            try:\n",
    "                e = e[counterstrike:]\n",
    "                turbapushka(k)\n",
    "                print('pag scrap')\n",
    "                print(str(counterstrike))\n",
    "                counterstrike +=1\n",
    "                report.append(f'scrapping of element {cuadrados} failed twice but was completed')\n",
    "            except:\n",
    "                try:\n",
    "                    e = e[counterstrike:]\n",
    "                    turbapushka(k)\n",
    "                    print('pag scrap')\n",
    "                    print(str(counterstrike))\n",
    "                    counterstrike +=1\n",
    "                    report.append(f'scrapping of element {cuadrados} failed twice but was completed')\n",
    "                except:\n",
    "                    report.append(f'scrapping of element {cuadrados} failed, partial completion')\n",
    "                    continue\n",
    "                    "
   ]
  },
  {
   "cell_type": "code",
   "execution_count": null,
   "id": "433a812c",
   "metadata": {},
   "outputs": [],
   "source": [
    "len(date)"
   ]
  },
  {
   "cell_type": "code",
   "execution_count": null,
   "id": "0820ee39",
   "metadata": {},
   "outputs": [],
   "source": [
    "square_1_A = date"
   ]
  },
  {
   "cell_type": "code",
   "execution_count": null,
   "id": "edcffa60",
   "metadata": {},
   "outputs": [],
   "source": [
    "import pandas as pd"
   ]
  },
  {
   "cell_type": "code",
   "execution_count": null,
   "id": "0e53068c",
   "metadata": {},
   "outputs": [],
   "source": [
    "dfA = pd.DataFrame(square_1_A)"
   ]
  },
  {
   "cell_type": "code",
   "execution_count": null,
   "id": "72cf68b7",
   "metadata": {},
   "outputs": [],
   "source": [
    "dfA.T.to_csv('Scrapnight1_10_20.csv')"
   ]
  },
  {
   "cell_type": "code",
   "execution_count": null,
   "id": "d26ba248",
   "metadata": {},
   "outputs": [],
   "source": [
    "dfA.T.tail()"
   ]
  },
  {
   "cell_type": "code",
   "execution_count": null,
   "id": "14b4f4b6",
   "metadata": {
    "scrolled": true
   },
   "outputs": [],
   "source": [
    "print(dfA.T[3].value_counts())"
   ]
  },
  {
   "cell_type": "code",
   "execution_count": null,
   "id": "00ab77f3",
   "metadata": {},
   "outputs": [],
   "source": [
    "dfA.T.shape"
   ]
  }
 ],
 "metadata": {
  "kernelspec": {
   "display_name": "Python 3 (ipykernel)",
   "language": "python",
   "name": "python3"
  },
  "language_info": {
   "codemirror_mode": {
    "name": "ipython",
    "version": 3
   },
   "file_extension": ".py",
   "mimetype": "text/x-python",
   "name": "python",
   "nbconvert_exporter": "python",
   "pygments_lexer": "ipython3",
   "version": "3.9.7"
  }
 },
 "nbformat": 4,
 "nbformat_minor": 5
}
