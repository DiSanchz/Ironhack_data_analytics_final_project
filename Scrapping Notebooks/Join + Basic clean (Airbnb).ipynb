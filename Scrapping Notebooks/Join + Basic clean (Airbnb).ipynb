{
 "cells": [
  {
   "cell_type": "code",
   "execution_count": 1,
   "id": "73674111",
   "metadata": {},
   "outputs": [],
   "source": [
    "import pandas as pd\n",
    "import re\n",
    "import numpy as np\n",
    "import folium\n",
    "from folium import plugins\n",
    "import warnings  \n",
    "warnings.simplefilter('ignore')"
   ]
  },
  {
   "cell_type": "markdown",
   "id": "f7da4b26",
   "metadata": {},
   "source": [
    "# Importing & merging the datasets"
   ]
  },
  {
   "cell_type": "code",
   "execution_count": 2,
   "id": "c13fa53a",
   "metadata": {},
   "outputs": [],
   "source": [
    "a = pd.read_csv('Square1.csv')\n",
    "b = pd.read_csv('Square2.csv')\n",
    "c = pd.read_csv('Square3.csv')\n",
    "d = pd.read_csv('Square4.csv')\n",
    "e = pd.read_csv('Square5.csv')\n",
    "f = pd.read_csv('Square6.csv')\n",
    "g = pd.read_csv('Square7.csv')\n",
    "h = pd.read_csv('Square8.csv')\n",
    "i = pd.read_csv('Square9.csv')\n",
    "j = pd.read_csv('Square10.csv')\n",
    "k = pd.read_csv('Square21.csv')\n",
    "l = pd.read_csv('Square22.csv')\n",
    "m = pd.read_csv('Square23.csv')\n",
    "n = pd.read_csv('Square24.csv')\n",
    "o = pd.read_csv('Square25.csv')\n",
    "p = pd.read_csv('Square26.csv')\n",
    "q = pd.read_csv('Square27.csv')\n",
    "r = pd.read_csv('Square28.csv')\n",
    "s = pd.read_csv('Square29.csv')\n",
    "t = pd.read_csv('Square30.csv')\n",
    "u = pd.read_csv('Square31.csv')\n",
    "v = pd.read_csv('Square32.csv')\n",
    "w = pd.read_csv('Square33.csv')\n",
    "x = pd.read_csv('Square34.csv')\n",
    "y = pd.read_csv('Square35.csv')\n",
    "z = pd.read_csv('Square36.csv')\n",
    "aa = pd.read_csv('Square37.csv')\n",
    "ab = pd.read_csv('Square38.csv')\n",
    "ac = pd.read_csv('Square39.csv')\n",
    "ad = pd.read_csv('Square49.csv')\n",
    "ae = pd.read_csv('Square50.csv')\n",
    "af = pd.read_csv('Square66.csv')\n",
    "ag = pd.read_csv('Square79.csv')\n",
    "ah = pd.read_csv('Scrapnight1_11_20.csv')\n",
    "ai = pd.read_csv('Scrapnight2_40_48.csv')\n",
    "aj = pd.read_csv('Scrapnight2_51_65.csv' ) \n",
    "ak = pd.read_csv('Scrapnight2_67_78.csv')"
   ]
  },
  {
   "cell_type": "code",
   "execution_count": 3,
   "id": "794550a9",
   "metadata": {},
   "outputs": [],
   "source": [
    "xx = pd.concat([a,b,c,d,e,f,g,h,i,j,k,l,m,n,o,p,q,r,s,t,u,v,w,x,y,z,aa,ab,ac,ad,ae,af,ag,ah,ai,aj,ak], axis=0)"
   ]
  },
  {
   "cell_type": "markdown",
   "id": "9898b3c2",
   "metadata": {},
   "source": [
    "# Cleaning the data"
   ]
  },
  {
   "cell_type": "markdown",
   "id": "6a94f480",
   "metadata": {},
   "source": [
    "### Defining cleaning functions (move to src)"
   ]
  },
  {
   "cell_type": "code",
   "execution_count": 4,
   "id": "278d6515",
   "metadata": {},
   "outputs": [],
   "source": [
    "def cleancords(punto):\n",
    "    '''Clean coord columns as it comes from scrapping'''\n",
    "    try:\n",
    "        punto = punto[2:-2]\n",
    "        esplit = punto.split(',')\n",
    "        esplite = (float(esplit[0]),float(esplit[1]))\n",
    "        kords.append(esplite)\n",
    "    except:\n",
    "        kords.append(np.nan)\n",
    "\n",
    "def cleandescr(crip):\n",
    "    '''\n",
    "    Transform the data in descr column to create 4 new columns with the contained integers.\n",
    "    Requires the four list that are to become columns to be previously initialized\n",
    "    '''\n",
    "    hue = 0\n",
    "    dorm = 0\n",
    "    cam = 0\n",
    "    toil = 0\n",
    "    \n",
    "    cripa = crip.split('·')\n",
    "\n",
    "    for i in cripa:\n",
    "        if 'pedes' in i:\n",
    "            guest.append(float(re.findall('\\d+', i)[0]))\n",
    "            hue = 1\n",
    "        elif 'orio' in i:\n",
    "            try:\n",
    "                bedroom.append(float(re.findall('\\d+', i)[0]))\n",
    "                dorm = 1\n",
    "            except:\n",
    "                pass\n",
    "        elif 'cama' in i:\n",
    "            try:\n",
    "                beds.append(float(re.findall('\\d+', i)[0]))\n",
    "                cam = 1\n",
    "            except:\n",
    "                pass\n",
    "        elif 'año' in i:\n",
    "            try:\n",
    "                bathroom.append(float(re.findall('\\d+|\\d+\\,\\d+', i)[0].replace(',','.')))\n",
    "                toil = 1\n",
    "            except:\n",
    "                pass\n",
    "        elif 'aseo' in i:\n",
    "            try:\n",
    "                bathroom.append(float(re.findall('\\d+|\\d+\\,\\d+', i)[0].replace(',','.')))\n",
    "                toil = 1\n",
    "            except:\n",
    "                pass\n",
    "        elif 'udio' in i:\n",
    "            try:\n",
    "                bedroom.append(1.5)\n",
    "                dorm = 1\n",
    "            except:\n",
    "                pass\n",
    "    if cam == 0:\n",
    "        beds.append(np.nan)\n",
    "    if dorm == 0:\n",
    "        bedroom.append(np.nan)\n",
    "    if toil == 0:\n",
    "        bathroom.append(np.nan)\n",
    "    if hue == 0:\n",
    "        guest.append(np.nan)\n",
    "\n",
    "\n",
    "def cleanprice(plo):\n",
    "    '''Function that cleans price column'''\n",
    "    plo.replace('.','')\n",
    "    plo = re.findall('\\d+', plo)[0]\n",
    "    prise.append(float(plo))"
   ]
  },
  {
   "cell_type": "code",
   "execution_count": 5,
   "id": "f867f8e9",
   "metadata": {},
   "outputs": [],
   "source": [
    "# initialize list for cleandescr\n",
    "guest = []\n",
    "bedroom = []\n",
    "beds = []\n",
    "bathroom = []\n",
    "# initialize list for cleancords\n",
    "kords = [] \n",
    "# initialize list for cleanprice\n",
    "prise = []"
   ]
  },
  {
   "cell_type": "markdown",
   "id": "c0de7289",
   "metadata": {},
   "source": [
    "### Drop duplicates"
   ]
  },
  {
   "cell_type": "code",
   "execution_count": 6,
   "id": "7abf817d",
   "metadata": {},
   "outputs": [
    {
     "data": {
      "text/plain": [
       "True"
      ]
     },
     "execution_count": 6,
     "metadata": {},
     "output_type": "execute_result"
    }
   ],
   "source": [
    "# Duplicate values are expected as a result of overlapping scrapping areas\n",
    "\n",
    "boolean = xx['Unnamed: 0'].duplicated().any()\n",
    "boolean"
   ]
  },
  {
   "cell_type": "code",
   "execution_count": 7,
   "id": "ee57bebc",
   "metadata": {},
   "outputs": [],
   "source": [
    "xx_nodup = xx.drop_duplicates(subset='Unnamed: 0')"
   ]
  },
  {
   "cell_type": "code",
   "execution_count": 8,
   "id": "2eb730a4",
   "metadata": {},
   "outputs": [
    {
     "data": {
      "text/plain": [
       "False"
      ]
     },
     "execution_count": 8,
     "metadata": {},
     "output_type": "execute_result"
    }
   ],
   "source": [
    "# The duplicates have been deleted\n",
    "\n",
    "boolean = xx_nodup['Unnamed: 0'].duplicated().any()\n",
    "boolean"
   ]
  },
  {
   "cell_type": "code",
   "execution_count": 9,
   "id": "ce0a878d",
   "metadata": {
    "scrolled": true
   },
   "outputs": [
    {
     "data": {
      "text/plain": [
       "38311656    1\n",
       "51745570    1\n",
       "5454015?    1\n",
       "47843521    1\n",
       "54923029    1\n",
       "           ..\n",
       "53317380    1\n",
       "11206643    1\n",
       "54236995    1\n",
       "53841343    1\n",
       "55364387    1\n",
       "Name: Unnamed: 0, Length: 10331, dtype: int64"
      ]
     },
     "execution_count": 9,
     "metadata": {},
     "output_type": "execute_result"
    }
   ],
   "source": [
    "# Checking if indeed the duplicates have been deleted\n",
    "\n",
    "xx_nodup['Unnamed: 0'].value_counts()"
   ]
  },
  {
   "cell_type": "markdown",
   "id": "032a9a90",
   "metadata": {},
   "source": []
  },
  {
   "cell_type": "code",
   "execution_count": 10,
   "id": "15b421ad",
   "metadata": {},
   "outputs": [],
   "source": [
    "#Renamig columns\n",
    "\n",
    "xx_nodup.columns = ['Id', 'Title', 'url', 'descr', 'coord', 'price']"
   ]
  },
  {
   "cell_type": "markdown",
   "id": "a79893c1",
   "metadata": {},
   "source": [
    "### Applying cleaning functions"
   ]
  },
  {
   "cell_type": "code",
   "execution_count": 11,
   "id": "1dadbb13",
   "metadata": {},
   "outputs": [],
   "source": [
    "#Applying cleaning funcs \n",
    "\n",
    "for e in list(xx_nodup.coord):\n",
    "    cleancords(e)\n",
    "for e in list(xx_nodup.descr):\n",
    "    cleandescr(e)\n",
    "for e in list(xx_nodup.price):\n",
    "    cleanprice(e)\n",
    "\n",
    "xx_nodup['Prices'] = prise\n",
    "xx_nodup['Guest'] = guest\n",
    "xx_nodup['Bedrooms'] = bedroom\n",
    "xx_nodup['Beds'] = beds\n",
    "xx_nodup['Bathroom'] = bathroom\n",
    "xx_nodup['Spot'] = kords"
   ]
  },
  {
   "cell_type": "code",
   "execution_count": 12,
   "id": "c026a84e",
   "metadata": {
    "scrolled": true
   },
   "outputs": [],
   "source": [
    "# Dropping useless columns\n",
    "\n",
    "xx_nodup.drop('price', axis=1, inplace=True)\n",
    "xx_nodup.drop('coord', axis=1, inplace=True)\n",
    "xx_nodup.drop('descr', axis=1, inplace=True)"
   ]
  },
  {
   "cell_type": "markdown",
   "id": "babed04e",
   "metadata": {},
   "source": [
    "### Exploring clean dataset"
   ]
  },
  {
   "cell_type": "code",
   "execution_count": 13,
   "id": "7ea0a653",
   "metadata": {
    "scrolled": true
   },
   "outputs": [],
   "source": [
    "xxx = xx_nodup"
   ]
  },
  {
   "cell_type": "code",
   "execution_count": 14,
   "id": "35b2dfbc",
   "metadata": {},
   "outputs": [
    {
     "data": {
      "text/html": [
       "<div>\n",
       "<style scoped>\n",
       "    .dataframe tbody tr th:only-of-type {\n",
       "        vertical-align: middle;\n",
       "    }\n",
       "\n",
       "    .dataframe tbody tr th {\n",
       "        vertical-align: top;\n",
       "    }\n",
       "\n",
       "    .dataframe thead th {\n",
       "        text-align: right;\n",
       "    }\n",
       "</style>\n",
       "<table border=\"1\" class=\"dataframe\">\n",
       "  <thead>\n",
       "    <tr style=\"text-align: right;\">\n",
       "      <th></th>\n",
       "      <th>Id</th>\n",
       "      <th>Title</th>\n",
       "      <th>url</th>\n",
       "      <th>Prices</th>\n",
       "      <th>Guest</th>\n",
       "      <th>Bedrooms</th>\n",
       "      <th>Beds</th>\n",
       "      <th>Bathroom</th>\n",
       "      <th>Spot</th>\n",
       "    </tr>\n",
       "  </thead>\n",
       "  <tbody>\n",
       "    <tr>\n",
       "      <th>23</th>\n",
       "      <td>32631303</td>\n",
       "      <td>Apto en San Andrés. Playa de Las Teresitas/Anaga</td>\n",
       "      <td>https://www.airbnb.es/rooms/32631303?adults=2&amp;...</td>\n",
       "      <td>34.0</td>\n",
       "      <td>2.0</td>\n",
       "      <td>1.0</td>\n",
       "      <td>2.0</td>\n",
       "      <td>1.0</td>\n",
       "      <td>(28.50401, -16.19234)</td>\n",
       "    </tr>\n",
       "    <tr>\n",
       "      <th>1694</th>\n",
       "      <td>21223558</td>\n",
       "      <td>Dream House Desire - Island Village Tenerife Sur</td>\n",
       "      <td>https://www.airbnb.es/rooms/21223558?adults=2&amp;...</td>\n",
       "      <td>216.0</td>\n",
       "      <td>6.0</td>\n",
       "      <td>2.0</td>\n",
       "      <td>4.0</td>\n",
       "      <td>2.0</td>\n",
       "      <td>(28.0809, -16.7262)</td>\n",
       "    </tr>\n",
       "    <tr>\n",
       "      <th>94</th>\n",
       "      <td>1120855?</td>\n",
       "      <td>MASCA, UNA HABITACIÓN CON VISTAS</td>\n",
       "      <td>https://www.airbnb.es/rooms/1120855?adults=2&amp;c...</td>\n",
       "      <td>82.0</td>\n",
       "      <td>2.0</td>\n",
       "      <td>1.0</td>\n",
       "      <td>1.0</td>\n",
       "      <td>1.0</td>\n",
       "      <td>(28.30317, -16.83688)</td>\n",
       "    </tr>\n",
       "    <tr>\n",
       "      <th>914</th>\n",
       "      <td>40150102</td>\n",
       "      <td>Te damos la bienvenida a</td>\n",
       "      <td>https://www.airbnb.es/rooms/40150102?adults=2&amp;...</td>\n",
       "      <td>41.0</td>\n",
       "      <td>2.0</td>\n",
       "      <td>1.0</td>\n",
       "      <td>2.0</td>\n",
       "      <td>1.0</td>\n",
       "      <td>(28.40643, -16.53845)</td>\n",
       "    </tr>\n",
       "    <tr>\n",
       "      <th>182</th>\n",
       "      <td>52845507</td>\n",
       "      <td>Retiro al atardecer en Magnolia Golf</td>\n",
       "      <td>https://www.airbnb.es/rooms/52845507?adults=2&amp;...</td>\n",
       "      <td>173.0</td>\n",
       "      <td>6.0</td>\n",
       "      <td>2.0</td>\n",
       "      <td>4.0</td>\n",
       "      <td>2.0</td>\n",
       "      <td>(28.10617, -16.75307)</td>\n",
       "    </tr>\n",
       "  </tbody>\n",
       "</table>\n",
       "</div>"
      ],
      "text/plain": [
       "            Id                                             Title  \\\n",
       "23    32631303  Apto en San Andrés. Playa de Las Teresitas/Anaga   \n",
       "1694  21223558  Dream House Desire - Island Village Tenerife Sur   \n",
       "94    1120855?                  MASCA, UNA HABITACIÓN CON VISTAS   \n",
       "914   40150102                          Te damos la bienvenida a   \n",
       "182   52845507              Retiro al atardecer en Magnolia Golf   \n",
       "\n",
       "                                                    url  Prices  Guest  \\\n",
       "23    https://www.airbnb.es/rooms/32631303?adults=2&...    34.0    2.0   \n",
       "1694  https://www.airbnb.es/rooms/21223558?adults=2&...   216.0    6.0   \n",
       "94    https://www.airbnb.es/rooms/1120855?adults=2&c...    82.0    2.0   \n",
       "914   https://www.airbnb.es/rooms/40150102?adults=2&...    41.0    2.0   \n",
       "182   https://www.airbnb.es/rooms/52845507?adults=2&...   173.0    6.0   \n",
       "\n",
       "      Bedrooms  Beds  Bathroom                   Spot  \n",
       "23         1.0   2.0       1.0  (28.50401, -16.19234)  \n",
       "1694       2.0   4.0       2.0    (28.0809, -16.7262)  \n",
       "94         1.0   1.0       1.0  (28.30317, -16.83688)  \n",
       "914        1.0   2.0       1.0  (28.40643, -16.53845)  \n",
       "182        2.0   4.0       2.0  (28.10617, -16.75307)  "
      ]
     },
     "execution_count": 14,
     "metadata": {},
     "output_type": "execute_result"
    }
   ],
   "source": [
    "xxx.sample(5)"
   ]
  },
  {
   "cell_type": "code",
   "execution_count": 15,
   "id": "ddd42a64",
   "metadata": {},
   "outputs": [
    {
     "data": {
      "text/plain": [
       "(10331, 9)"
      ]
     },
     "execution_count": 15,
     "metadata": {},
     "output_type": "execute_result"
    }
   ],
   "source": [
    "xxx.shape"
   ]
  },
  {
   "cell_type": "code",
   "execution_count": 16,
   "id": "81d46e8e",
   "metadata": {
    "scrolled": true
   },
   "outputs": [
    {
     "data": {
      "text/html": [
       "<div>\n",
       "<style scoped>\n",
       "    .dataframe tbody tr th:only-of-type {\n",
       "        vertical-align: middle;\n",
       "    }\n",
       "\n",
       "    .dataframe tbody tr th {\n",
       "        vertical-align: top;\n",
       "    }\n",
       "\n",
       "    .dataframe thead th {\n",
       "        text-align: right;\n",
       "    }\n",
       "</style>\n",
       "<table border=\"1\" class=\"dataframe\">\n",
       "  <thead>\n",
       "    <tr style=\"text-align: right;\">\n",
       "      <th></th>\n",
       "      <th>Prices</th>\n",
       "      <th>Guest</th>\n",
       "      <th>Bedrooms</th>\n",
       "      <th>Beds</th>\n",
       "      <th>Bathroom</th>\n",
       "    </tr>\n",
       "  </thead>\n",
       "  <tbody>\n",
       "    <tr>\n",
       "      <th>count</th>\n",
       "      <td>10331.000000</td>\n",
       "      <td>10331.000000</td>\n",
       "      <td>10299.000000</td>\n",
       "      <td>10213.000000</td>\n",
       "      <td>10310.000000</td>\n",
       "    </tr>\n",
       "    <tr>\n",
       "      <th>mean</th>\n",
       "      <td>94.732456</td>\n",
       "      <td>4.092343</td>\n",
       "      <td>1.750753</td>\n",
       "      <td>2.695878</td>\n",
       "      <td>1.360621</td>\n",
       "    </tr>\n",
       "    <tr>\n",
       "      <th>std</th>\n",
       "      <td>88.849527</td>\n",
       "      <td>2.010811</td>\n",
       "      <td>1.001464</td>\n",
       "      <td>1.683989</td>\n",
       "      <td>0.803476</td>\n",
       "    </tr>\n",
       "    <tr>\n",
       "      <th>min</th>\n",
       "      <td>1.000000</td>\n",
       "      <td>2.000000</td>\n",
       "      <td>1.000000</td>\n",
       "      <td>1.000000</td>\n",
       "      <td>0.000000</td>\n",
       "    </tr>\n",
       "    <tr>\n",
       "      <th>25%</th>\n",
       "      <td>50.000000</td>\n",
       "      <td>3.000000</td>\n",
       "      <td>1.000000</td>\n",
       "      <td>2.000000</td>\n",
       "      <td>1.000000</td>\n",
       "    </tr>\n",
       "    <tr>\n",
       "      <th>50%</th>\n",
       "      <td>69.000000</td>\n",
       "      <td>4.000000</td>\n",
       "      <td>1.500000</td>\n",
       "      <td>2.000000</td>\n",
       "      <td>1.000000</td>\n",
       "    </tr>\n",
       "    <tr>\n",
       "      <th>75%</th>\n",
       "      <td>100.000000</td>\n",
       "      <td>5.000000</td>\n",
       "      <td>2.000000</td>\n",
       "      <td>3.000000</td>\n",
       "      <td>2.000000</td>\n",
       "    </tr>\n",
       "    <tr>\n",
       "      <th>max</th>\n",
       "      <td>999.000000</td>\n",
       "      <td>16.000000</td>\n",
       "      <td>16.000000</td>\n",
       "      <td>25.000000</td>\n",
       "      <td>16.000000</td>\n",
       "    </tr>\n",
       "  </tbody>\n",
       "</table>\n",
       "</div>"
      ],
      "text/plain": [
       "             Prices         Guest      Bedrooms          Beds      Bathroom\n",
       "count  10331.000000  10331.000000  10299.000000  10213.000000  10310.000000\n",
       "mean      94.732456      4.092343      1.750753      2.695878      1.360621\n",
       "std       88.849527      2.010811      1.001464      1.683989      0.803476\n",
       "min        1.000000      2.000000      1.000000      1.000000      0.000000\n",
       "25%       50.000000      3.000000      1.000000      2.000000      1.000000\n",
       "50%       69.000000      4.000000      1.500000      2.000000      1.000000\n",
       "75%      100.000000      5.000000      2.000000      3.000000      2.000000\n",
       "max      999.000000     16.000000     16.000000     25.000000     16.000000"
      ]
     },
     "execution_count": 16,
     "metadata": {},
     "output_type": "execute_result"
    }
   ],
   "source": [
    "xxx.describe()"
   ]
  },
  {
   "cell_type": "code",
   "execution_count": 17,
   "id": "9ede2293",
   "metadata": {},
   "outputs": [],
   "source": [
    "xxx = xxx.dropna(subset=['Spot'])"
   ]
  },
  {
   "cell_type": "code",
   "execution_count": 18,
   "id": "da194096",
   "metadata": {},
   "outputs": [],
   "source": [
    "#xxx_blank = xxx[xxx['Spot'].isna()]\n",
    "#xxx_blank.shape"
   ]
  },
  {
   "cell_type": "code",
   "execution_count": 19,
   "id": "2986f531",
   "metadata": {},
   "outputs": [
    {
     "name": "stdout",
     "output_type": "stream",
     "text": [
      "(9427, 9)\n"
     ]
    }
   ],
   "source": [
    "print(xxx.shape)\n",
    "xxx.to_csv('airbnb_clean.csv')"
   ]
  },
  {
   "cell_type": "markdown",
   "id": "01476948",
   "metadata": {},
   "source": [
    "### Blank coordinates filling - scrap (project)"
   ]
  },
  {
   "cell_type": "code",
   "execution_count": 20,
   "id": "d36a287d",
   "metadata": {},
   "outputs": [],
   "source": [
    "#xxx.Spot.unique"
   ]
  },
  {
   "cell_type": "code",
   "execution_count": 21,
   "id": "37bfa142",
   "metadata": {},
   "outputs": [],
   "source": [
    "#import requests as req\n",
    "#from bs4 import BeautifulSoup as bs\n",
    "#import pandas as pd\n",
    "#import json\n",
    "#import time \n",
    "#from selenium import webdriver\n",
    "#from selenium.webdriver.chrome.options import Options\n",
    "#from webdriver_manager.chrome import ChromeDriverManager\n",
    "#from selenium.webdriver.common.action_chains import ActionChains\n",
    "#import time\n",
    "#import re\n",
    "#\n",
    "#opciones=Options()\n",
    "#\n",
    "#opciones.add_experimental_option('excludeSwitches', ['enable-automation'])\n",
    "#opciones.add_experimental_option('useAutomationExtension', False)\n",
    "#opciones.headless=False   \n",
    "#opciones.add_argument('--start-maximized')         \n",
    "##opciones.add_argument('user-data-dir=selenium')   \n",
    "##opciones.add_extension('driver_folder/adblock.crx')       \n",
    "#opciones.add_argument('--incognito')\n",
    "#\n",
    "##driver = \"./chromedriver.exe\"\n",
    "##driver = webdriver.Chrome(driver,options = opciones)"
   ]
  },
  {
   "cell_type": "code",
   "execution_count": 22,
   "id": "13741d1f",
   "metadata": {},
   "outputs": [],
   "source": [
    "#goodcoords = []\n",
    "#\n",
    "#for url in xxx_blank.url:\n",
    "#    driver = \"./chromedriver.exe\"\n",
    "#    driver = webdriver.Chrome(driver,options = opciones)\n",
    "#    driver.get(url)\n",
    "#    \n",
    "#    time.sleep(4)\n",
    "#    ###acccept cookies (extended)\n",
    "#    try:\n",
    "#        cookies = driver.find_element_by_xpath('/html/body/div[5]/div/div/div[1]/div/div[3]/section/div[2]/div[2]/button')\n",
    "#        cookies.click()\n",
    "#    except:\n",
    "#        try:\n",
    "#            cookies = driver.find_element_by_xpath('/html/body/div[5]/div/div/div[1]/div/div[2]/section/div[2]/div[2]/button')\n",
    "#            cookies.click()\n",
    "#        except:\n",
    "#            try:\n",
    "#                cookies = driver.find_element_by_xpath('/html/body/div[5]/div/div/div[1]/div/div[2]/section/div[2]/div[2]/button')\n",
    "#            except:\n",
    "#                pass\n",
    "#    \n",
    "#    \n",
    "#    driver.execute_script(\"window.scrollTo(0, 3500)\")\n",
    "#    time.sleep(1)\n",
    "#    google = driver.find_element_by_xpath('//*[@id=\"site-content\"]/div/div[1]/div[5]/div/div/div/div[2]/section/div[3]/div[3]/div[2]/div/div/div[14]/div/a/div/img')\n",
    "#    google.click()\n",
    "#    elems = driver.find_elements_by_xpath(\"//a[@href]\")\n",
    "#    links = []\n",
    "#    for elem in elems:\n",
    "#        if 'maps' in str(elem.get_attribute(\"href\")):\n",
    "#            links.append(str(elem.get_attribute(\"href\")))       \n",
    "#            strmap = '-'.join(links)\n",
    "#            print(strmap)\n",
    "#            coordinates = re.findall('\\d{2}\\.\\d+\\,\\-\\d{2}\\.\\d+', strmap)\n",
    "#            print(coordinates)\n",
    "#            goodcoords.append(coordinates)"
   ]
  }
 ],
 "metadata": {
  "kernelspec": {
   "display_name": "Python 3 (ipykernel)",
   "language": "python",
   "name": "python3"
  },
  "language_info": {
   "codemirror_mode": {
    "name": "ipython",
    "version": 3
   },
   "file_extension": ".py",
   "mimetype": "text/x-python",
   "name": "python",
   "nbconvert_exporter": "python",
   "pygments_lexer": "ipython3",
   "version": "3.9.7"
  }
 },
 "nbformat": 4,
 "nbformat_minor": 5
}
