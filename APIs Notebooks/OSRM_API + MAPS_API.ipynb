{
 "cells": [
  {
   "cell_type": "code",
   "execution_count": 18,
   "id": "8ac3511f",
   "metadata": {},
   "outputs": [],
   "source": [
    "import requests\n",
    "import json\n",
    "import h3\n",
    "\n",
    "a1 = (28.07966641468419, -16.731202064205906)\n",
    "a2 = (28.47965522827953, -16.302283249219435)\n",
    "# call the OSMR API\n",
    "#r = requests.get(f\"http://router.project-osrm.org/route/v1/car/-16.731202064205906,28.07966641468419;-16.302283249219435,28.47965522827953?overview=simplified\"\"\")\n",
    "#\n",
    "#routes = json.loads(r.content)\n",
    "#route_1 = routes.get(\"routes\")[0]"
   ]
  },
  {
   "cell_type": "markdown",
   "id": "3fbdbf37",
   "metadata": {},
   "source": [
    "### Pruebas"
   ]
  },
  {
   "cell_type": "code",
   "execution_count": 9,
   "id": "46ddcb2e",
   "metadata": {
    "scrolled": true
   },
   "outputs": [
    {
     "data": {
      "text/plain": [
       "{'legs': [{'steps': [],\n",
       "   'weight': 3379.1,\n",
       "   'distance': 77739,\n",
       "   'summary': '',\n",
       "   'duration': 3379.1}],\n",
       " 'weight_name': 'routability',\n",
       " 'geometry': 'yhkjDxxbeBxnAqx@b{AadH}@}rMcuBugHaOcfCcoGmzIo|G_wFyaHwcAkcKspFynFuS}dMm}Bic@izAcdBaqAcYciBwpBo`BahAyGksAlu@koCucAeYvU',\n",
       " 'weight': 3379.1,\n",
       " 'distance': 77739,\n",
       " 'duration': 3379.1}"
      ]
     },
     "execution_count": 9,
     "metadata": {},
     "output_type": "execute_result"
    }
   ],
   "source": [
    "route_1"
   ]
  },
  {
   "cell_type": "code",
   "execution_count": 1,
   "id": "6e26f6e1",
   "metadata": {},
   "outputs": [],
   "source": [
    "def getroute_ORSM(lng1,lat1,lng2,lat2):\n",
    "    '''Consults the OSRM API the best driving route posible between two points'''\n",
    "    \n",
    "    r = requests.get(f\"http://router.project-osrm.org/route/v1/car/{lng1},{lat1};{lng2},{lat2}?overview=simplified\"\"\")\n",
    "\n",
    "    routes = json.loads(r.content)\n",
    "    route_1 = routes.get(\"routes\")[0]\n",
    "    return route_1"
   ]
  },
  {
   "cell_type": "code",
   "execution_count": 3,
   "id": "c272eee1",
   "metadata": {},
   "outputs": [],
   "source": [
    "x = getroute_ORSM(-16.731202064205906,28.07966641468419,-16.302283249219435,28.47965522827953)"
   ]
  },
  {
   "cell_type": "code",
   "execution_count": 4,
   "id": "76f84666",
   "metadata": {
    "scrolled": true
   },
   "outputs": [
    {
     "data": {
      "text/plain": [
       "{'legs': [{'steps': [],\n",
       "   'weight': 3379.1,\n",
       "   'distance': 77739,\n",
       "   'summary': '',\n",
       "   'duration': 3379.1}],\n",
       " 'weight_name': 'routability',\n",
       " 'geometry': 'yhkjDxxbeBxnAqx@b{AadH}@}rMcuBugHaOcfCcoGmzIo|G_wFyaHwcAkcKspFynFuS}dMm}Bic@izAcdBaqAcYciBwpBo`BahAyGksAlu@koCucAeYvU',\n",
       " 'weight': 3379.1,\n",
       " 'distance': 77739,\n",
       " 'duration': 3379.1}"
      ]
     },
     "execution_count": 4,
     "metadata": {},
     "output_type": "execute_result"
    }
   ],
   "source": [
    "x #working"
   ]
  },
  {
   "cell_type": "code",
   "execution_count": 4,
   "id": "d4ba50de",
   "metadata": {
    "scrolled": true
   },
   "outputs": [
    {
     "name": "stdout",
     "output_type": "stream",
     "text": [
      "{\n",
      "   \"destination_addresses\" : [ \"585 Schenectady Ave, Brooklyn, NY 11203, USA\" ],\n",
      "   \"origin_addresses\" : [ \"P.O. Box 793, Brooklyn, NY 11207, USA\" ],\n",
      "   \"rows\" : [\n",
      "      {\n",
      "         \"elements\" : [\n",
      "            {\n",
      "               \"distance\" : {\n",
      "                  \"text\" : \"4.6 km\",\n",
      "                  \"value\" : 4631\n",
      "               },\n",
      "               \"duration\" : {\n",
      "                  \"text\" : \"19 mins\",\n",
      "                  \"value\" : 1116\n",
      "               },\n",
      "               \"status\" : \"OK\"\n",
      "            }\n",
      "         ]\n",
      "      }\n",
      "   ],\n",
      "   \"status\" : \"OK\"\n",
      "}\n",
      "\n"
     ]
    }
   ],
   "source": [
    "import requests\n",
    "\n",
    "url = \"https://maps.googleapis.com/maps/api/distancematrix/json?origins=40.6655101%2C-73.89188969999998&destinations=40.659569%2C-73.933783&key=\"\n",
    "\n",
    "payload={}\n",
    "headers = {}\n",
    "\n",
    "response = requests.request(\"GET\", url, headers=headers, data=payload)\n",
    "\n",
    "print(response.text)"
   ]
  },
  {
   "cell_type": "code",
   "execution_count": 52,
   "id": "398c4507",
   "metadata": {},
   "outputs": [
    {
     "data": {
      "text/plain": [
       "'<Response [200]>'"
      ]
     },
     "execution_count": 52,
     "metadata": {},
     "output_type": "execute_result"
    }
   ],
   "source": [
    "str(response)"
   ]
  },
  {
   "cell_type": "code",
   "execution_count": 30,
   "id": "9f3d59bc",
   "metadata": {
    "scrolled": true
   },
   "outputs": [
    {
     "data": {
      "text/plain": [
       "{'destination_addresses': ['585 Schenectady Ave, Brooklyn, NY 11203, USA'],\n",
       " 'origin_addresses': ['P.O. Box 793, Brooklyn, NY 11207, USA'],\n",
       " 'rows': [{'elements': [{'distance': {'text': '4.6 km', 'value': 4631},\n",
       "     'duration': {'text': '19 mins', 'value': 1116},\n",
       "     'status': 'OK'}]}],\n",
       " 'status': 'OK'}"
      ]
     },
     "execution_count": 30,
     "metadata": {},
     "output_type": "execute_result"
    }
   ],
   "source": [
    "response.json()"
   ]
  },
  {
   "cell_type": "code",
   "execution_count": 40,
   "id": "8db543d2",
   "metadata": {},
   "outputs": [
    {
     "name": "stdout",
     "output_type": "stream",
     "text": [
      "4631\n",
      "1116\n"
     ]
    }
   ],
   "source": [
    "print(beta['rows'][0]['elements'][0]['distance']['value']) #distancia en metros\n",
    "print(beta['rows'][0]['elements'][0]['duration']['value']) #duración\n",
    "del viaje en segundos"
   ]
  },
  {
   "cell_type": "code",
   "execution_count": 65,
   "id": "abcfdd24",
   "metadata": {},
   "outputs": [],
   "source": [
    "afc = 'hola'\n",
    "bfc = 'adios'\n",
    "dicto = {}\n",
    "def suma(i,j):\n",
    "    return i+j\n",
    "dicto[f'{afc} - {bfc}'] = suma(3,4)"
   ]
  },
  {
   "cell_type": "code",
   "execution_count": 66,
   "id": "983c5055",
   "metadata": {},
   "outputs": [
    {
     "data": {
      "text/plain": [
       "{'hola - adios': 7}"
      ]
     },
     "execution_count": 66,
     "metadata": {},
     "output_type": "execute_result"
    }
   ],
   "source": [
    "dicto"
   ]
  },
  {
   "cell_type": "code",
   "execution_count": 46,
   "id": "ce722acb",
   "metadata": {},
   "outputs": [],
   "source": [
    "with open('papi.json', 'w') as f:\n",
    "    json.dump(dicto, f)"
   ]
  },
  {
   "cell_type": "markdown",
   "id": "053be784",
   "metadata": {},
   "source": [
    "### Template & data loading"
   ]
  },
  {
   "cell_type": "code",
   "execution_count": null,
   "id": "d0b1c02b",
   "metadata": {},
   "outputs": [],
   "source": [
    "url_template = f\"https://maps.googleapis.com/maps/api/distancematrix/json?origins={lat1}%2C{lng1}&destinations={lat2}%2C{lng2}&key=\""
   ]
  },
  {
   "cell_type": "code",
   "execution_count": 64,
   "id": "21d99145",
   "metadata": {},
   "outputs": [],
   "source": [
    "u8_air = ['88344c5123fffff', '88344c5127fffff', '88344c5ac9fffff', '88344c513dfffff', '88344c5acdfffff', '88344c5135fffff', '883441309dfffff', '88344130a7fffff', '88344131d1fffff', '88344130d1fffff', '883441221dfffff', '883441220dfffff', '8834413081fffff', '88344130e3fffff', '883441356dfffff', '8834412249fffff', '883441372dfffff', '88344130e7fffff', '8834413763fffff', '88344131d5fffff', '88344131d9fffff', '88344131dbfffff', '8834413729fffff', '883441220bfffff', '8834413767fffff', '88344130dbfffff', '88344130ddfffff', '88344131d7fffff', '8834413089fffff', '8834413725fffff', '8834413721fffff', '883441224dfffff', '8834413527fffff', '88344131d3fffff', '8834412243fffff', '8834412263fffff', '8834413547fffff', '883441309bfffff', '88344130a9fffff', '8834413561fffff', '88344130c3fffff', '883441225dfffff', '88344131a7fffff', '88344130a1fffff', '8834413505fffff', '88346a6c69fffff', '88346a6f49fffff', '88346a6a93fffff', '88346a6c49fffff', '88346a6e27fffff', '88346a6f17fffff', '88346a6f41fffff', '88346a6193fffff', '88346a6f4dfffff', '88346a61a3fffff', '88346a6f45fffff', '88346a6f13fffff', '88346a6ab3fffff', '88346a6e3dfffff', '88346a68dbfffff', '88346a6d51fffff', '88346a6c45fffff', '88346a6e2bfffff', '88346a61bdfffff', '88346a6f37fffff', '88346a6e07fffff', '88346a6d5dfffff', '88346a6f43fffff', '88344ccb0bfffff', '88344cd9b9fffff', '883441364bfffff', '8834413641fffff', '8834413651fffff', '883441acb7fffff', '8834413607fffff', '8834413609fffff', '883441ac97fffff', '8834413603fffff', '883441366bfffff', '883441acb1fffff', '8834413645fffff', '883441acbbfffff', '883441365dfffff', '88344cd947fffff', '883441ac93fffff', '883441365bfffff', '883441acb3fffff', '88344cd945fffff', '88344cd965fffff', '8834413647fffff', '88344cd96bfffff', '8834413669fffff', '88344cd969fffff', '8834413659fffff', '883441360dfffff', '88344cd905fffff', '8834413643fffff', '8834413655fffff', '883441364dfffff', '88344cd967fffff', '88344cd921fffff', '883441362bfffff', '8834413605fffff', '88344cd96dfffff', '8834413751fffff', '883441375bfffff', '883441375dfffff', '8834413753fffff', '8834413759fffff', '8834413667fffff', '8834413661fffff', '883441362dfffff', '8834413629fffff', '8834413755fffff', '8834413757fffff', '8834413625fffff', '8834413663fffff', '883441370bfffff', '883441360bfffff', '8834413621fffff', '8834413719fffff', '88344c512dfffff', '88344c5a5bfffff', '88344c5a53fffff', '88344c5a51fffff', '88344c5167fffff', '88344c5165fffff', '88344c5a59fffff', '88344c5a5dfffff', '88344c5a43fffff', '88344c5a55fffff', '88344124adfffff', '88344125d3fffff', '88344124a1fffff', '88344124a9fffff', '88344124a5fffff', '88344124abfffff', '8834412487fffff', '88344124bdfffff', '8834412485fffff', '8834412481fffff', '88344125d1fffff', '883441242bfffff', '88344124edfffff', '8834412417fffff', '8834412439fffff', '8834412413fffff', '883441243bfffff', '883441243dfffff', '88344124e1fffff', '88344124e9fffff', '8834412407fffff', '8834412403fffff', '88344125d9fffff', '88344124d9fffff', '88344124d3fffff', '88344124d1fffff', '88344124dbfffff', '88344124e3fffff', '88344126b7fffff', '88344125dbfffff', '8834412401fffff', '8834412433fffff', '8834412415fffff', '8834412435fffff', '88344124e5fffff', '88344cc8a7fffff', '88344cc993fffff', '8834412697fffff', '8834412691fffff', '88344cc8a5fffff', '88344ccabbfffff', '88344126dbfffff', '88344cc8abfffff', '88344ccab1fffff', '88344cc81bfffff', '88344cc8d9fffff', '88344ccf6dfffff', '88344c524dfffff', '88344cc9d7fffff', '88344cc8dbfffff', '88344cc99dfffff', '88344cc8bbfffff', '88344cc99bfffff', '88344cc8ddfffff', '88344cc89dfffff', '88344cc891fffff', '88344cc9e5fffff', '88344cc8b9fffff', '88344ccf65fffff', '88344cc9adfffff', '88344ccab7fffff', '88344cca89fffff', '88344ccab5fffff', '8834412461fffff', '8834412441fffff', '8834412453fffff', '8834412443fffff', '8834412455fffff', '883441240dfffff', '8834412457fffff', '883441244dfffff', '883441240bfffff', '8834412445fffff', '883441271dfffff', '8834412711fffff', '8834412467fffff', '8834412463fffff', '8834412409fffff', '8834412405fffff', '8834412429fffff', '883441246bfffff', '88344125c1fffff', '88344125c9fffff', '88344125cdfffff', '88344125cbfffff', '8834412423fffff', '8834412427fffff', '883441251bfffff', '8834412425fffff', '883441254dfffff', '883441209bfffff', '8834412727fffff', '8834412557fffff', '8834412553fffff', '883441255dfffff', '8834412551fffff', '8834412723fffff', '8834412559fffff', '8834412731fffff', '8834412733fffff', '8834412735fffff', '88344135b7fffff', '88344122b5fffff', '88344120d5fffff', '88344122a3fffff', '88344120d3fffff', '8834412765fffff', '88344120d7fffff', '8834412747fffff', '88344120d9fffff', '88344120cbfffff', '883441270bfffff', '8834412705fffff', '8834412701fffff', '88344122c3fffff', '8834412293fffff', '8834412743fffff', '8834412715fffff', '883441275dfffff', '883441276bfffff', '88344122c7fffff', '88344122cdfffff', '88344120dbfffff', '883441276dfffff', '8834412281fffff', '8834412709fffff', '88344122c1fffff', '88344122b9fffff', '8834412703fffff', '883441228dfffff', '8834412099fffff', '88344122b3fffff', '8834412763fffff', '8834412291fffff', '8834412755fffff', '8834412295fffff', '8834412297fffff', '88344120d1fffff', '8834412283fffff', '88344122abfffff', '8834412707fffff', '8834413535fffff', '88344122cbfffff', '883441358dfffff', '88344122bdfffff', '88344120c9fffff', '88344122a7fffff', '88344c506bfffff', '883441249bfffff', '88344c5141fffff', '88344c515dfffff', '88344c5025fffff', '88344c5107fffff', '88344c533dfffff', '88344c510dfffff', '88344c5149fffff', '88344c532bfffff', '88344c502dfffff', '88344c506dfffff', '88344c5061fffff', '88344c5317fffff', '88344c5063fffff', '88344c5119fffff', '88344c5021fffff', '88344c5007fffff', '88344c5335fffff', '88344c5005fffff', '88344c514dfffff', '88344c5155fffff', '88344c5327fffff', '88344c5105fffff', '88344c5101fffff', '88344c531bfffff', '88344c5069fffff', '88344c5323fffff', '88344c514bfffff', '88344c504dfffff', '88344c51edfffff', '88344c513bfffff', '88344c51c5fffff', '88344c5113fffff', '88344c51e1fffff', '88344c51e9fffff', '88344c5133fffff', '88344c51ebfffff', '88344c5117fffff', '88344c5115fffff', '88344c5111fffff', '88344c5139fffff', '88344c51c7fffff', '88344c51c1fffff', '88344c5281fffff', '88344c5285fffff', '88344c5287fffff', '88344c5289fffff', '88344c52d5fffff', '88344c528dfffff', '88344c52c3fffff', '88344c52c7fffff', '88344c52c1fffff', '88344cd243fffff', '88344cd209fffff', '88344cd20dfffff', '88346a69b1fffff', '88344cd20bfffff', '88346a69bdfffff', '88344cd355fffff', '88344cd26dfffff', '88344cd219fffff', '88344cd265fffff', '88346a699bfffff', '88344cd359fffff', '88344cd247fffff', '88344cd26bfffff', '88346a68a3fffff', '88344cd267fffff', '88344cd353fffff', '88346a68a7fffff', '88346a68b5fffff', '88344cd357fffff', '88346a69b5fffff', '88344cd257fffff', '88344cd21dfffff', '88344cd207fffff', '88346a68bdfffff', '88344cd35dfffff', '88346a6995fffff', '88344cd24bfffff', '88344cd221fffff', '88344cd349fffff', '88344cd319fffff', '88344cd255fffff', '88346a69b9fffff', '88346a69b3fffff', '88346a6d03fffff', '88346a6d07fffff', '88346a6d2bfffff', '88346a6d01fffff', '8834412497fffff', '88344124bbfffff', '88344124b1fffff', '8834412491fffff', '88344124b5fffff', '88344c5161fffff', '88344124b7fffff', '88344124b3fffff', '88344c5a4bfffff', '88344c5a49fffff', '88344c5325fffff', '88344c5367fffff', '8834412499fffff', '88344c536dfffff', '88344c531dfffff', '88344c5305fffff', '88344c530bfffff', '88344126bbfffff', '88344c5301fffff', '88344c5321fffff', '88344c5329fffff', '88344c530dfffff', '88344c5303fffff', '88344c536bfffff', '88344124a3fffff', '88344c52a7fffff', '88344c5015fffff', '88344c52a1fffff', '88344c52a5fffff', '88344c5011fffff', '88344c501bfffff', '88344c52a3fffff', '88344c501dfffff', '88344c5229fffff', '88344c5215fffff', '88344c5351fffff', '88344c522dfffff', '88344c5217fffff', '88344c526bfffff', '88344c5203fffff', '88344c5255fffff', '88344c5243fffff', '88344c5213fffff', '88344c5269fffff', '88344c523bfffff', '88344c5357fffff', '88344c5201fffff', '88344c5245fffff', '88344c520bfffff', '88344c5359fffff', '88344c5257fffff', '88344c520dfffff', '88344c5261fffff', '88344c521dfffff', '88344c5241fffff', '88344c5209fffff', '88344c5353fffff', '88344c5205fffff', '88344c5265fffff', '88344c52edfffff', '88344c5223fffff', '88344c5239fffff', '88344ccd57fffff', '88344ccf51fffff', '88344ccf33fffff', '88344ccf59fffff', '88344ccd51fffff', '88344ccf5bfffff', '88344cce65fffff', '88344ccf19fffff', '88344ccf11fffff', '88344ccf69fffff', '88344ccd59fffff', '88344ccf53fffff', '88346a683dfffff', '88346a69c3fffff', '88346a6815fffff', '88346a69cbfffff', '88346a6831fffff', '88346a69ddfffff', '88346a698dfffff', '88346a6837fffff', '88346a6839fffff', '88346a6989fffff', '88346a699dfffff', '88346a69ebfffff', '88346a6999fffff', '88346a69c7fffff', '88346a6985fffff', '88346a683bfffff', '88346a6991fffff', '88346a6981fffff', '88346a69a9fffff', '88346a69a7fffff', '883441a6dbfffff', '88346a68ebfffff', '88346a6987fffff', '88346a69adfffff', '88346a6835fffff', '88346a69c1fffff', '883441a699fffff', '88346a69e3fffff', '88346a68a1fffff', '883441a695fffff', '88346a6983fffff', '88346a69a5fffff', '883441a69bfffff', '88344cc8b7fffff', '88344c5039fffff', '88344c503dfffff', '88344c5031fffff', '88344c5035fffff', '88344c5023fffff', '88344c502bfffff', '88344c5003fffff', '88344c505dfffff', '88344c5051fffff', '88344c5059fffff', '88344c5043fffff', '88344c5019fffff', '88344c52abfffff', '88344c5055fffff', '88344c505bfffff', '88344c5053fffff', '88344c504bfffff', '88344c5041fffff', '8834413709fffff', '8834413705fffff', '8834413707fffff', '883441371dfffff', '8834413743fffff', '8834413701fffff', '8834413703fffff', '883441370dfffff', '8834413627fffff', '8834413713fffff', '883441371bfffff', '8834413635fffff', '8834413711fffff', '8834413637fffff', '8834413441fffff', '8834413735fffff', '8834413449fffff', '8834413623fffff', '883441363dfffff', '8834413715fffff', '8834413681fffff', '88344cc001fffff', '88344cc00bfffff', '88344ccad1fffff', '88344cc133fffff', '88344cc13bfffff', '88344cc039fffff', '88344cc009fffff', '88344cc035fffff', '88344cc1b9fffff', '88344cca97fffff', '88344cc043fffff', '88344cc195fffff', '88344cc103fffff', '88344cca91fffff', '88344cc03dfffff', '88344cc113fffff', '88344cc007fffff', '88344cca93fffff', '88344cc1e5fffff', '88344cc031fffff', '88344cc067fffff', '88344cc1e7fffff', '88344cc1edfffff', '88344cc153fffff', '88344ccad9fffff', '88344cc183fffff', '88344ccadbfffff', '88344cc181fffff', '88344cc135fffff', '88344cc105fffff', '88344cc1adfffff', '88344cc117fffff', '88344cc111fffff', '88344cc1ddfffff', '88344cc115fffff', '88344cc18dfffff', '88344cca8bfffff', '88344cc235fffff', '88344cc341fffff', '88344cc20dfffff', '88344cc069fffff', '88344cc04bfffff', '88344cc049fffff', '88344cc31dfffff', '88344cc353fffff', '88344cc303fffff', '88344cd1b7fffff', '88344cc06dfffff', '88344cd1b5fffff', '88344cd199fffff', '88344cc26bfffff', '88344cc245fffff', '88344cc355fffff', '88344cd1bdfffff', '88344cc265fffff', '88344cc313fffff', '88344cd191fffff', '88344cc359fffff', '88344cc30bfffff', '88344cd1b1fffff', '88344cc227fffff', '88344cc349fffff', '88344cd187fffff', '88344cc225fffff', '88344cd183fffff', '88344cd197fffff', '88344cc269fffff', '88344cc357fffff', '88344cc34bfffff', '88344cd19dfffff', '88344cc15bfffff', '88344cd1bbfffff', '88344cd193fffff', '88344cd1a7fffff', '88344cc23dfffff', '88344cc22dfffff', '88344cd1b9fffff', '88344cd195fffff', '88344cd913fffff', '88344cd91bfffff', '88344cd911fffff', '88344cd94bfffff', '88344cd847fffff', '88344cd95dfffff', '88344cdb35fffff', '88344cd84bfffff', '88344cd801fffff', '88344cdb31fffff', '88344cd845fffff', '88344cd951fffff', '88344cd855fffff', '88344cd941fffff', '88344cd953fffff', '88344cd843fffff', '88344cd805fffff', '88344cd80dfffff', '88344cd803fffff', '88344cd919fffff', '88344cdb37fffff', '88344cd809fffff', '88344cd861fffff', '88344cd949fffff', '88344cd863fffff', '88344cd869fffff', '88344cd807fffff', '88344cd95bfffff', '88344cd86bfffff', '88344cd86dfffff', '88344cd85dfffff', '88344cd959fffff', '88344cd821fffff', '88344cdb13fffff', '88344cd857fffff', '88344cd80bfffff', '88344cd849fffff', '88344cd84dfffff', '88344cdb1dfffff', '88344cdb03fffff', '88344cdb3dfffff', '88344cdb39fffff', '88344cdb0bfffff', '88344cdb15fffff', '88344cdb17fffff', '88344cdb11fffff', '88344cdb3bfffff', '88344cdb1bfffff', '88344cda27fffff', '88344cdb19fffff', '88344cdb57fffff', '88344cda25fffff', '88344cdb53fffff', '88344cda23fffff', '88344cda2bfffff', '88344cda3dfffff', '88344cda07fffff', '88344cda21fffff', '88344cda03fffff', '88344cda01fffff', '88344cda39fffff', '88344cda05fffff', '88344cda31fffff', '88344cda35fffff', '88344cda37fffff', '88344cdaa5fffff', '88344cd853fffff', '88344cd851fffff', '88344cdaadfffff', '88344cd859fffff', '88344cd819fffff', '88344cdae5fffff', '883441a4bbfffff', '88344cda09fffff', '883441a495fffff', '883441a4b3fffff', '88344cda5dfffff', '883441a497fffff', '88344cd16dfffff', '88344cda0bfffff', '883441a4b9fffff', '88344cda51fffff', '883441a4b1fffff', '88344cda0dfffff', '88344cda55fffff', '88344cda47fffff', '88344cda43fffff', '883441a493fffff', '883441a49dfffff', '88344cd163fffff', '88344cda57fffff', '88344cd16bfffff', '883441a6b3fffff', '883441a4d3fffff', '88344cd36dfffff', '883441a6bbfffff', '88344cd369fffff', '883441a4dbfffff', '883441a4d7fffff', '88344cd325fffff', '883441a499fffff', '88344cd305fffff', '883441a697fffff', '88344cd361fffff', '88344cd367fffff', '88344cd309fffff', '88344cd329fffff', '88344cd34dfffff', '88344cd301fffff', '88344cd36bfffff', '88344cd343fffff', '88344cd363fffff', '88344cd347fffff', '883441a491fffff', '88344cd30dfffff', '88344cd32dfffff', '88344cd307fffff', '88344cd341fffff', '88344cd33dfffff', '88344cd069fffff', '88344cd313fffff', '88344cd323fffff', '88344cd149fffff', '88344cd06bfffff', '88344cd11dfffff', '88344cd145fffff', '88344cd063fffff', '88344cd045fffff', '88344cd007fffff', '88344cd013fffff', '88344cd031fffff', '88344cd1d3fffff', '88344cd1d1fffff', '88344cd0edfffff', '88344cd1dbfffff', '88344cd0cdfffff', '88344cd0c9fffff', '88344cd1ddfffff', '88344cd1d7fffff', '88344cd033fffff', '88344cd18bfffff', '88344cd181fffff', '88344cd0e9fffff', '88344cd01bfffff', '88344cd017fffff', '88344cd2a5fffff', '88344cd2a9fffff', '88344cd011fffff', '88344cd2e1fffff', '88344cd2a3fffff', '88344cd2a7fffff', '88344cd05dfffff', '88344cd2e9fffff', '88344cd2abfffff', '88344cd237fffff', '88344cd2a1fffff', '88344cd2e7fffff', '88344cd2e5fffff', '88344cd2ebfffff', '88344cd289fffff', '88344cd2adfffff', '88344cd051fffff', '88344cd2c1fffff', '88344cd2e3fffff', '88344cd00bfffff', '88344cd2c5fffff', '88344cd2cdfffff', '88344cd217fffff', '88344cd213fffff', '88344cd231fffff', '88344cd041fffff', '88344cd04dfffff', '88344cd047fffff', '88346a6d63fffff', '88346a6d67fffff', '88346a6d25fffff', '88344cd253fffff', '88346a6d39fffff', '88346a6d35fffff', '88346a6d23fffff', '88344cd2c9fffff', '88346a6d27fffff', '88346a6d3dfffff', '88346a6d21fffff', '88346a6d31fffff', '88344cd21bfffff', '88346a6d0bfffff']"
   ]
  },
  {
   "cell_type": "code",
   "execution_count": 11,
   "id": "819ca9b1",
   "metadata": {},
   "outputs": [
    {
     "data": {
      "text/plain": [
       "781"
      ]
     },
     "execution_count": 11,
     "metadata": {},
     "output_type": "execute_result"
    }
   ],
   "source": [
    "len(uniques_airbnb8)"
   ]
  },
  {
   "cell_type": "code",
   "execution_count": 63,
   "id": "e3d0ff08",
   "metadata": {},
   "outputs": [],
   "source": [
    "u8_spot = ['88344124b5fffff',\n",
    " '88344cdb15fffff',\n",
    " '8834412491fffff',\n",
    " '88344c5169fffff',\n",
    " '88344c5151fffff',\n",
    " '88344124a3fffff',\n",
    " '88344cd119fffff',\n",
    " '88344cc94bfffff',\n",
    " '88344122a1fffff',\n",
    " '88346a6f2dfffff',\n",
    " '88346a6d31fffff',\n",
    " '8834412413fffff',\n",
    " '88346a61b3fffff',\n",
    " '883441221dfffff',\n",
    " '8834413627fffff',\n",
    " '883441234dfffff',\n",
    " '88344ccb29fffff',\n",
    " '88346a6f45fffff',\n",
    " '8834413757fffff',\n",
    " '88344124adfffff',\n",
    " '88346a6c4dfffff',\n",
    " '88344c5a5dfffff',\n",
    " '88344c5285fffff',\n",
    " '88344c5a4bfffff',\n",
    " '88344cdb53fffff',\n",
    " '88344c52a3fffff',\n",
    " '88346a61bdfffff',\n",
    " '88344c5a43fffff',\n",
    " '88344cdb13fffff',\n",
    " '88f294a333fffff',\n",
    " '88344cd211fffff',\n",
    " '8834412737fffff',\n",
    " '88344c5035fffff',\n",
    " '88344131d1fffff',\n",
    " '88344c5107fffff',\n",
    " '88344125d9fffff',\n",
    " '88344c5007fffff',\n",
    " '88344124b7fffff',\n",
    " '88344cd355fffff',\n",
    " '88344c5a51fffff',\n",
    " '88346a6d03fffff',\n",
    " '88344cd267fffff',\n",
    " '88344c5053fffff',\n",
    " '88346a6d39fffff',\n",
    " '88346a6d3bfffff',\n",
    " '88344cc353fffff',\n",
    " '88344cd209fffff',\n",
    " '88344cd21dfffff',\n",
    " '88344cd843fffff',\n",
    " '88344cd193fffff',\n",
    " '88344cc355fffff',\n",
    " '88346a6d07fffff',\n",
    " '88344126dbfffff',\n",
    " '8834413751fffff']"
   ]
  },
  {
   "cell_type": "code",
   "execution_count": 21,
   "id": "5f0445cb",
   "metadata": {},
   "outputs": [
    {
     "data": {
      "text/plain": [
       "(28.44899593905623, -16.282103738725876)"
      ]
     },
     "execution_count": 21,
     "metadata": {},
     "output_type": "execute_result"
    }
   ],
   "source": [
    "h3.h3_to_geo(u8_air[756])"
   ]
  },
  {
   "cell_type": "markdown",
   "id": "d708ecac",
   "metadata": {},
   "source": [
    "### Automatization - Google Maps 42k"
   ]
  },
  {
   "cell_type": "code",
   "execution_count": 16,
   "id": "cbceefa9",
   "metadata": {},
   "outputs": [],
   "source": [
    "distances = {}"
   ]
  },
  {
   "cell_type": "markdown",
   "id": "d29a4b84",
   "metadata": {},
   "source": [
    "Función genérica de llamada a la API"
   ]
  },
  {
   "cell_type": "code",
   "execution_count": 49,
   "id": "a70325d8",
   "metadata": {},
   "outputs": [],
   "source": [
    "# return de la función para cuando origen y destino son el mismo tile\n",
    "zerodict = {'destination_addresses': ['we'],\n",
    " 'origin_addresses': ['we'],\n",
    " 'rows': [{'elements': [{'distance': {'text': '0 km', 'value': 0},\n",
    "     'duration': {'text': '0 mins', 'value': 0},\n",
    "     'status': 'OK'}]}],\n",
    " 'status': 'OK'}"
   ]
  },
  {
   "cell_type": "code",
   "execution_count": 61,
   "id": "cd6dbc45",
   "metadata": {},
   "outputs": [],
   "source": [
    "def protivagaz(code1, code2):\n",
    "    '''Función para automatizar la obtención de datos de distance matrix de la api maps para códigos de la librería h3\n",
    "    code1 se corresponde al tile del airbnb y code 2 a la atracción\n",
    "    '''\n",
    "    try:\n",
    "        if code1 == code2:\n",
    "            return zerodict\n",
    "        else: \n",
    "            code11 = h3.h3_to_geo(code1)\n",
    "            lat1 = code11[0]\n",
    "            lng1 = code11[1]\n",
    "            code22 = h3.h3_to_geo(code2)\n",
    "            lat2 = code22[0]\n",
    "            lng2 = code22[1]\n",
    "        \n",
    "            url_template = f\"https://maps.googleapis.com/maps/api/distancematrix/json?origins={lat1}%2C{lng1}&destinations={lat2}%2C{lng2}&key=\"\n",
    "        \n",
    "            payload={}\n",
    "            headers = {}\n",
    "\n",
    "            response = requests.request(\"GET\", url_template, headers=headers, data=payload)\n",
    "        \n",
    "            if str(response) != '<Response [200]>':\n",
    "                print('Error detected')\n",
    "            \n",
    "            return response.json()\n",
    "        \n",
    "    except:\n",
    "        return('Error in protivagaz or API Call')"
   ]
  },
  {
   "cell_type": "markdown",
   "id": "6a87cff1",
   "metadata": {},
   "source": [
    "Combinación de la función anterior con el diccionario objetivo"
   ]
  },
  {
   "cell_type": "code",
   "execution_count": 67,
   "id": "5a72bb9e",
   "metadata": {},
   "outputs": [
    {
     "name": "stdout",
     "output_type": "stream",
     "text": [
      "done\n"
     ]
    }
   ],
   "source": [
    "# notas:\n",
    "## json.dump() para guardar un diccionario a json\n",
    "\n",
    "dictador = {}\n",
    "\n",
    "for vav in u8_air:\n",
    "    for bab in u8_spot:\n",
    "        dictador[f'{vav} - {bab}'] = protivagaz(vav,bab)\n",
    "        \n",
    "with open('dictador.json', 'w') as f:\n",
    "    json.dump(dictador, f)\n",
    "\n",
    "print('done')"
   ]
  },
  {
   "cell_type": "code",
   "execution_count": 68,
   "id": "e24cc295",
   "metadata": {},
   "outputs": [
    {
     "data": {
      "text/plain": [
       "42174"
      ]
     },
     "execution_count": 68,
     "metadata": {},
     "output_type": "execute_result"
    }
   ],
   "source": [
    "len(dictador)"
   ]
  },
  {
   "cell_type": "code",
   "execution_count": null,
   "id": "6a2d0a6f",
   "metadata": {},
   "outputs": [],
   "source": []
  }
 ],
 "metadata": {
  "kernelspec": {
   "display_name": "Python 3 (ipykernel)",
   "language": "python",
   "name": "python3"
  },
  "language_info": {
   "codemirror_mode": {
    "name": "ipython",
    "version": 3
   },
   "file_extension": ".py",
   "mimetype": "text/x-python",
   "name": "python",
   "nbconvert_exporter": "python",
   "pygments_lexer": "ipython3",
   "version": "3.9.7"
  }
 },
 "nbformat": 4,
 "nbformat_minor": 5
}
